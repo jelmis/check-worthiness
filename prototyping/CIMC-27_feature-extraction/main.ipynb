{
 "cells": [
  {
   "attachments": {},
   "cell_type": "markdown",
   "metadata": {
    "collapsed": false
   },
   "source": [
    "# Feature Extraction\n",
    "Given CLIP-embedded text-image-pairs, there are multiple ways of feeding them to our model. For example, one could naively concatenate the text embedding with the image embedding of every pair and use those concatenations as input. We call the actual inputs \"features\". This notebook showcases different methods of feature extraction, given CLIP-embedded text-image-pairs. The resulting features of each method is stored in a pickle file.\n",
    "\n",
    "Additionally, in Section 1, we save the labels for every split in a separate pickle file."
   ]
  },
  {
   "attachments": {},
   "cell_type": "markdown",
   "metadata": {
    "collapsed": false
   },
   "source": [
    "## 0. Imports and Constants\n",
    "- Change the path to your dataset directory\n",
    "- Specify the dataset versions in the #CONSTANTS# part"
   ]
  },
  {
   "cell_type": "code",
   "execution_count": 1,
   "metadata": {
    "ExecuteTime": {
     "end_time": "2023-05-17T08:44:58.255222482Z",
     "start_time": "2023-05-17T08:44:58.209844901Z"
    },
    "collapsed": false
   },
   "outputs": [],
   "source": [
    "############## AUTORELOAD MAGIC ###################\n",
    "%load_ext autoreload\n",
    "%autoreload 2\n",
    "\n",
    "# FUNDAMENTAL MODULES\n",
    "import numpy as np\n",
    "import sys\n",
    "import os\n",
    "\n",
    "############## TASK-SPECIFIC MODULES ##############\n",
    "sys.path.append(os.path.join(os.getcwd(),\"src\"))\n",
    "import feature_extraction as fe\n",
    "import label_extraction as le\n",
    "import utils\n",
    "###################################################\n",
    "\n",
    "# CONSTANTS\n",
    "version = \"v2\" #\"v1\"\n",
    "users = [\"patriziopalmisano\", \"onurdenizguler\", \"jockl\"]\n",
    "\n",
    "####################### SELECT ###########################\n",
    "user = users[1] # SELECT USER\n",
    "dataset_version = \"v2\" # SELECT DATASET VERSION\n",
    "##########################################################\n",
    "\n",
    "if user in users[:2]:\n",
    "    dataset_dir = f\"/Users/{user}/Library/CloudStorage/GoogleDrive-check.worthiness@gmail.com/My Drive/data/CT23_1A_checkworthy_multimodal_english_{version}\"\n",
    "else:\n",
    "    dataset_dir = f\"/home/jockl/Insync/check.worthiness@gmail.com/Google Drive/data/CT23_1A_checkworthy_multimodal_english_{dataset_version}\"\n",
    "\n",
    "pickled_labels_dir = f\"{dataset_dir}/labels\"\n",
    "train_embeddings_path = dataset_dir + f\"/embeddings_train_{dataset_version}.pickle\"\n",
    "dev_embeddings_path = dataset_dir + f\"/embeddings_dev_{dataset_version}.pickle\"\n",
    "test_embeddings_path = dataset_dir + f\"/embeddings_test_{dataset_version}.pickle\"\n",
    "\n",
    "# KEYS USED IN ALL DICTS\n",
    "from feature_extraction import TRAIN, DEV, TEST, TXT, IMG, SPLITS"
   ]
  },
  {
   "attachments": {},
   "cell_type": "markdown",
   "metadata": {
    "collapsed": false
   },
   "source": [
    "## 1. Extract and Pickle the Labels"
   ]
  },
  {
   "cell_type": "code",
   "execution_count": 28,
   "metadata": {
    "ExecuteTime": {
     "end_time": "2023-05-17T08:44:59.727974779Z",
     "start_time": "2023-05-17T08:44:59.658576049Z"
    },
    "collapsed": false
   },
   "outputs": [
    {
     "name": "stdout",
     "output_type": "stream",
     "text": [
      "Shape label array: (2356,)\n",
      "Pickled: /home/jockl/Insync/check.worthiness@gmail.com/Google Drive/data/CT23_1A_checkworthy_multimodal_english_v2/labels/train_labels_v2.pickle\n",
      "Shape label array: (271,)\n",
      "Pickled: /home/jockl/Insync/check.worthiness@gmail.com/Google Drive/data/CT23_1A_checkworthy_multimodal_english_v2/labels/dev_labels_v2.pickle\n",
      "Shape label array: (548,)\n",
      "Pickled: /home/jockl/Insync/check.worthiness@gmail.com/Google Drive/data/CT23_1A_checkworthy_multimodal_english_v2/labels/test_labels_v2.pickle\n"
     ]
    }
   ],
   "source": [
    "# Initial JSON files of every split\n",
    "train_json = f\"{dataset_dir}/CT23_1A_checkworthy_multimodal_english_train.jsonl\"\n",
    "dev_json = f\"{dataset_dir}/CT23_1A_checkworthy_multimodal_english_dev.jsonl\"\n",
    "test_json = f\"{dataset_dir}/CT23_1A_checkworthy_multimodal_english_test.jsonl\"\n",
    "all_splits_json = {\"train\": train_json, \"dev\": dev_json, \"test\": test_json}\n",
    "\n",
    "# Extract and pickle labels of every split\n",
    "for key, split in all_splits_json.items():\n",
    "      labels_array = le.get_labels_from_dataset(split)\n",
    "      print(f\"Shape label array: {labels_array.shape}\")\n",
    "      utils.pickle_features_or_labels(labels_array, f\"{pickled_labels_dir}/{key}_labels_{dataset_version}.pickle\")"
   ]
  },
  {
   "attachments": {},
   "cell_type": "markdown",
   "metadata": {
    "collapsed": false
   },
   "source": [
    "## 2. Load Pickled Embeddings"
   ]
  },
  {
   "attachments": {},
   "cell_type": "markdown",
   "metadata": {
    "collapsed": false
   },
   "source": [
    "For every split of the dataset, two embedding arrays (txt, img) are loaded. We will store those embeddings in a nested dictionary that is intuitive to reference."
   ]
  },
  {
   "cell_type": "code",
   "execution_count": 3,
   "metadata": {
    "ExecuteTime": {
     "end_time": "2023-05-17T08:45:01.375033096Z",
     "start_time": "2023-05-17T08:45:01.315944097Z"
    },
    "collapsed": false
   },
   "outputs": [
    {
     "name": "stdout",
     "output_type": "stream",
     "text": [
      "Split\ttxt\t\timg\n",
      "Tr\t(2356, 768)\t(2356, 768)\n",
      "De\t(271, 768)\t(271, 768)\n",
      "Te\t(548, 768)\t(548, 768)\n"
     ]
    }
   ],
   "source": [
    "# Two  arrays (txt, img) for every split\n",
    "train_txt_embeddings, train_img_embeddings = utils.get_embeddings_from_pickle_file(train_embeddings_path)\n",
    "dev_txt_embeddings, dev_img_embeddings = utils.get_embeddings_from_pickle_file(dev_embeddings_path)\n",
    "test_txt_embeddings, test_img_embeddings = utils.get_embeddings_from_pickle_file(test_embeddings_path)\n",
    "\n",
    "# Hold embeddings in a nested dictionary for easy referencing\n",
    "embeddings_dict = {\n",
    "      TRAIN: {TXT: train_txt_embeddings, IMG: train_img_embeddings},\n",
    "      DEV: {TXT: dev_txt_embeddings, IMG: dev_img_embeddings},\n",
    "      TEST:  {TXT: test_txt_embeddings, IMG: test_img_embeddings}\n",
    "}\n",
    "\n",
    "# Dimensions of embedding per split\n",
    "print(utils.table_embeddings_dims_per_split(embeddings_dict))"
   ]
  },
  {
   "attachments": {},
   "cell_type": "markdown",
   "metadata": {
    "collapsed": false
   },
   "source": [
    "## 3. Naive Feature Extraction"
   ]
  },
  {
   "attachments": {},
   "cell_type": "markdown",
   "metadata": {},
   "source": [
    "### 3.0 Pickle Raw Embeddings Seperately (text & img)"
   ]
  },
  {
   "cell_type": "code",
   "execution_count": 4,
   "metadata": {},
   "outputs": [
    {
     "name": "stdout",
     "output_type": "stream",
     "text": [
      "Pickled: /Users/onurdenizguler/Library/CloudStorage/GoogleDrive-check.worthiness@gmail.com/My Drive/data/CT23_1A_checkworthy_multimodal_english_v2/features/txt_embeddings/txt_embeddings_train_v2.pickle\n",
      "Pickled: /Users/onurdenizguler/Library/CloudStorage/GoogleDrive-check.worthiness@gmail.com/My Drive/data/CT23_1A_checkworthy_multimodal_english_v2/features/txt_embeddings/txt_embeddings_dev_v2.pickle\n",
      "Pickled: /Users/onurdenizguler/Library/CloudStorage/GoogleDrive-check.worthiness@gmail.com/My Drive/data/CT23_1A_checkworthy_multimodal_english_v2/features/txt_embeddings/txt_embeddings_test_v2.pickle\n",
      "Pickled: /Users/onurdenizguler/Library/CloudStorage/GoogleDrive-check.worthiness@gmail.com/My Drive/data/CT23_1A_checkworthy_multimodal_english_v2/features/img_embeddings/img_embeddings_train_v2.pickle\n",
      "Pickled: /Users/onurdenizguler/Library/CloudStorage/GoogleDrive-check.worthiness@gmail.com/My Drive/data/CT23_1A_checkworthy_multimodal_english_v2/features/img_embeddings/img_embeddings_dev_v2.pickle\n",
      "Pickled: /Users/onurdenizguler/Library/CloudStorage/GoogleDrive-check.worthiness@gmail.com/My Drive/data/CT23_1A_checkworthy_multimodal_english_v2/features/img_embeddings/img_embeddings_test_v2.pickle\n"
     ]
    }
   ],
   "source": [
    "txt_embeddings = {split: None for split in SPLITS}\n",
    "img_embeddings = {split: None for split in SPLITS}\n",
    "\n",
    "for split, embeddings in embeddings_dict.items():\n",
    "      txt_features, img_features = embeddings[TXT], embeddings[IMG]\n",
    "      txt_embeddings[split] = txt_features\n",
    "      img_embeddings[split] = img_features\n",
    "utils.pickle_all_splits(txt_embeddings, dataset_dir, feature_method=\"txt_embeddings\",dataset_version=dataset_version)\n",
    "utils.pickle_all_splits(img_embeddings, dataset_dir, feature_method=\"img_embeddings\",dataset_version=dataset_version)"
   ]
  },
  {
   "attachments": {},
   "cell_type": "markdown",
   "metadata": {
    "collapsed": false
   },
   "source": [
    "### 3.1 Concatenation"
   ]
  },
  {
   "cell_type": "code",
   "execution_count": 4,
   "metadata": {
    "ExecuteTime": {
     "end_time": "2023-05-17T08:45:04.045017255Z",
     "start_time": "2023-05-17T08:45:04.005065415Z"
    },
    "collapsed": false
   },
   "outputs": [
    {
     "name": "stdout",
     "output_type": "stream",
     "text": [
      "Split\tShape\n",
      "Tr\t(2356, 1536)\n",
      "De\t(271, 1536)\n",
      "Te\t(548, 1536)\n"
     ]
    }
   ],
   "source": [
    "# Initialize to-be-pickled feature dictionary\n",
    "concat_features = {split: None for split in SPLITS}\n",
    "\n",
    "# Concatenate txt and img arrays of every split\n",
    "for split, embeddings in embeddings_dict.items():\n",
    "      features = np.concatenate((embeddings[TXT], embeddings[IMG]), axis=1)\n",
    "      concat_features[split] = features\n",
    "\n",
    "# Dimensions of input feature matrix per split\n",
    "print(utils.table_feature_dims_per_split(concat_features))"
   ]
  },
  {
   "cell_type": "code",
   "execution_count": 6,
   "metadata": {
    "ExecuteTime": {
     "end_time": "2023-05-17T08:45:06.001824766Z",
     "start_time": "2023-05-17T08:45:05.959448462Z"
    },
    "collapsed": false
   },
   "outputs": [
    {
     "name": "stdout",
     "output_type": "stream",
     "text": [
      "Txt emb: [ 0.31258187  0.8622302  -0.19572662  0.41690043 -0.8305622 ]\n",
      "Img emb: [ 0.20370999  0.39563796 -0.41939157 -0.35091972  0.02099419]\n",
      "Feature: [ 0.31258187  0.8622302  -0.19572662  0.41690043 -0.8305622 ]\n",
      "\t [ 0.20370999  0.39563796 -0.41939157 -0.35091972  0.02099419]\n"
     ]
    }
   ],
   "source": [
    "# Spot check\n",
    "print(f\"Txt emb: {embeddings_dict[TRAIN][TXT][0][:5]}\")\n",
    "print(f\"Img emb: {embeddings_dict[TRAIN][IMG][0][-5:]}\")\n",
    "print(f\"Feature: {concat_features[TRAIN][0][:5]}\\n\"\n",
    "      f\"\\t {concat_features[TRAIN][0][-5:]}\")"
   ]
  },
  {
   "cell_type": "code",
   "execution_count": null,
   "metadata": {
    "ExecuteTime": {
     "start_time": "2023-05-17T08:35:49.779370634Z"
    },
    "collapsed": false,
    "is_executing": true
   },
   "outputs": [
    {
     "name": "stdout",
     "output_type": "stream",
     "text": [
      "Pickled: /home/jockl/Insync/check.worthiness@gmail.com/Google Drive/data/CT23_1A_checkworthy_multimodal_english_v2/features/concat/concat_train_v2.pickle\n",
      "Pickled: /home/jockl/Insync/check.worthiness@gmail.com/Google Drive/data/CT23_1A_checkworthy_multimodal_english_v2/features/concat/concat_dev_v2.pickle\n",
      "Pickled: /home/jockl/Insync/check.worthiness@gmail.com/Google Drive/data/CT23_1A_checkworthy_multimodal_english_v2/features/concat/concat_test_v2.pickle\n"
     ]
    }
   ],
   "source": [
    "# Pickle the feature matrix of every split in its own file\n",
    "utils.pickle_all_splits(concat_features, dataset_dir, feature_method=\"concat\",dataset_version=dataset_version)\n"
   ]
  },
  {
   "attachments": {},
   "cell_type": "markdown",
   "metadata": {
    "collapsed": false
   },
   "source": [
    "### 3.2 Sum"
   ]
  },
  {
   "cell_type": "code",
   "execution_count": 7,
   "metadata": {
    "ExecuteTime": {
     "end_time": "2023-05-17T08:45:08.259763672Z",
     "start_time": "2023-05-17T08:45:08.215115896Z"
    },
    "collapsed": false
   },
   "outputs": [
    {
     "name": "stdout",
     "output_type": "stream",
     "text": [
      "Split\tShape\n",
      "Tr\t(2356, 768)\n",
      "De\t(271, 768)\n",
      "Te\t(548, 768)\n"
     ]
    }
   ],
   "source": [
    "# Initialize to-be-pickled feature dictionary\n",
    "sum_features = {split: None for split in SPLITS}\n",
    "\n",
    "# Sum txt and img matrices of every split\n",
    "for split, embeddings in embeddings_dict.items():\n",
    "      features = np.sum((embeddings[TXT], embeddings[IMG]), axis=0)\n",
    "      sum_features[split] = features\n",
    "\n",
    "# Shapes of input feature matrix per split\n",
    "print(utils.table_feature_dims_per_split(sum_features))"
   ]
  },
  {
   "cell_type": "code",
   "execution_count": 33,
   "metadata": {
    "ExecuteTime": {
     "end_time": "2023-05-17T08:45:09.865074204Z",
     "start_time": "2023-05-17T08:45:09.786667479Z"
    },
    "collapsed": false
   },
   "outputs": [
    {
     "name": "stdout",
     "output_type": "stream",
     "text": [
      "Txt emb: [ 0.31258187  0.8622302  -0.19572662  0.41690043 -0.8305622 ]\n",
      "Img emb: [-0.24858032  0.6837659   0.81424457  0.59864545  0.49090493]\n",
      "Feature: [ 0.06400155  1.5459961   0.61851794  1.0155458  -0.33965725]\n"
     ]
    }
   ],
   "source": [
    "# Spot check\n",
    "print(f\"Txt emb: {embeddings_dict[TRAIN][TXT][0][:5]}\")\n",
    "print(f\"Img emb: {embeddings_dict[TRAIN][IMG][0][:5]}\")\n",
    "print(f\"Feature: {sum_features[TRAIN][0][:5]}\")"
   ]
  },
  {
   "cell_type": "code",
   "execution_count": 34,
   "metadata": {
    "ExecuteTime": {
     "end_time": "2023-05-17T08:45:11.127439002Z",
     "start_time": "2023-05-17T08:45:11.089176747Z"
    },
    "collapsed": false
   },
   "outputs": [
    {
     "name": "stdout",
     "output_type": "stream",
     "text": [
      "Pickled: /home/jockl/Insync/check.worthiness@gmail.com/Google Drive/data/CT23_1A_checkworthy_multimodal_english_v2/features/sum/sum_train_v2.pickle\n",
      "Pickled: /home/jockl/Insync/check.worthiness@gmail.com/Google Drive/data/CT23_1A_checkworthy_multimodal_english_v2/features/sum/sum_dev_v2.pickle\n",
      "Pickled: /home/jockl/Insync/check.worthiness@gmail.com/Google Drive/data/CT23_1A_checkworthy_multimodal_english_v2/features/sum/sum_test_v2.pickle\n"
     ]
    }
   ],
   "source": [
    "# Pickle the feature matrix of every split in its own file\n",
    "utils.pickle_all_splits(sum_features, dataset_dir, feature_method=\"sum\", dataset_version=dataset_version)"
   ]
  },
  {
   "attachments": {},
   "cell_type": "markdown",
   "metadata": {
    "collapsed": false
   },
   "source": [
    "### 3.3 Mean"
   ]
  },
  {
   "cell_type": "code",
   "execution_count": 8,
   "metadata": {
    "ExecuteTime": {
     "end_time": "2023-05-17T08:45:12.720515442Z",
     "start_time": "2023-05-17T08:45:12.636655396Z"
    },
    "collapsed": false
   },
   "outputs": [
    {
     "name": "stdout",
     "output_type": "stream",
     "text": [
      "Split\tShape\n",
      "Tr\t(2356, 768)\n",
      "De\t(271, 768)\n",
      "Te\t(548, 768)\n"
     ]
    }
   ],
   "source": [
    "# Initialize to-be-pickled feature dictionary\n",
    "mean_features = {split: None for split in SPLITS}\n",
    "\n",
    "# Compute the mean of txt and img matrices of every split\n",
    "for split, embeddings in embeddings_dict.items():\n",
    "      features = np.mean((embeddings[TXT], embeddings[IMG]), axis=0)\n",
    "      mean_features[split] = features\n",
    "\n",
    "# Shapes of input feature matrix per split\n",
    "print(utils.table_feature_dims_per_split(mean_features))"
   ]
  },
  {
   "cell_type": "code",
   "execution_count": 36,
   "metadata": {
    "ExecuteTime": {
     "end_time": "2023-05-17T08:45:14.276860655Z",
     "start_time": "2023-05-17T08:45:14.235197811Z"
    },
    "collapsed": false
   },
   "outputs": [
    {
     "name": "stdout",
     "output_type": "stream",
     "text": [
      "Txt emb: [ 0.31258187  0.8622302  -0.19572662  0.41690043 -0.8305622 ]\n",
      "Img emb: [-0.24858032  0.6837659   0.81424457  0.59864545  0.49090493]\n",
      "Feature: [ 0.03200077  0.77299803  0.30925897  0.5077729  -0.16982862]\n"
     ]
    }
   ],
   "source": [
    "# Spot check\n",
    "print(f\"Txt emb: {embeddings_dict[TRAIN][TXT][0][:5]}\")\n",
    "print(f\"Img emb: {embeddings_dict[TRAIN][IMG][0][:5]}\")\n",
    "print(f\"Feature: {mean_features[TRAIN][0][:5]}\")"
   ]
  },
  {
   "cell_type": "code",
   "execution_count": 37,
   "metadata": {
    "ExecuteTime": {
     "end_time": "2023-05-17T08:45:15.963573334Z",
     "start_time": "2023-05-17T08:45:15.835986912Z"
    },
    "collapsed": false
   },
   "outputs": [
    {
     "name": "stdout",
     "output_type": "stream",
     "text": [
      "Pickled: /home/jockl/Insync/check.worthiness@gmail.com/Google Drive/data/CT23_1A_checkworthy_multimodal_english_v2/features/mean/mean_train_v2.pickle\n",
      "Pickled: /home/jockl/Insync/check.worthiness@gmail.com/Google Drive/data/CT23_1A_checkworthy_multimodal_english_v2/features/mean/mean_dev_v2.pickle\n",
      "Pickled: /home/jockl/Insync/check.worthiness@gmail.com/Google Drive/data/CT23_1A_checkworthy_multimodal_english_v2/features/mean/mean_test_v2.pickle\n"
     ]
    }
   ],
   "source": [
    "# Pickle the feature matrix of every split in its own file\n",
    "utils.pickle_all_splits(mean_features, dataset_dir, feature_method=\"mean\", dataset_version=dataset_version)"
   ]
  },
  {
   "attachments": {},
   "cell_type": "markdown",
   "metadata": {
    "collapsed": false
   },
   "source": [
    "### 3.4 Hadamard Product"
   ]
  },
  {
   "cell_type": "code",
   "execution_count": 9,
   "metadata": {
    "ExecuteTime": {
     "end_time": "2023-05-17T08:45:17.366117125Z",
     "start_time": "2023-05-17T08:45:17.338205256Z"
    },
    "collapsed": false
   },
   "outputs": [
    {
     "name": "stdout",
     "output_type": "stream",
     "text": [
      "Split\tShape\n",
      "Tr\t(2356, 768)\n",
      "De\t(271, 768)\n",
      "Te\t(548, 768)\n"
     ]
    }
   ],
   "source": [
    "# Initialize to-be-pickled feature dictionary\n",
    "hadamard_features = {split: None for split in SPLITS}\n",
    "\n",
    "# Get hadamard multiplication of txt and img matrices of every split\n",
    "for split, embeddings in embeddings_dict.items():\n",
    "      features = np.multiply(embeddings[TXT], embeddings[IMG])\n",
    "      hadamard_features[split] = features\n",
    "\n",
    "# Shapes of input feature matrix per split\n",
    "print(utils.table_feature_dims_per_split(hadamard_features))"
   ]
  },
  {
   "cell_type": "code",
   "execution_count": 39,
   "metadata": {
    "ExecuteTime": {
     "end_time": "2023-05-17T08:45:19.114714979Z",
     "start_time": "2023-05-17T08:45:19.086847293Z"
    },
    "collapsed": false
   },
   "outputs": [
    {
     "name": "stdout",
     "output_type": "stream",
     "text": [
      "Txt emb: [ 0.31258187  0.8622302  -0.19572662  0.41690043 -0.8305622 ]\n",
      "Img emb: [-0.24858032  0.6837659   0.81424457  0.59864545  0.49090493]\n",
      "Feature: [-0.0777017   0.5895636  -0.15936933  0.24957554 -0.40772706]\n"
     ]
    }
   ],
   "source": [
    "# Spot check\n",
    "print(f\"Txt emb: {embeddings_dict[TRAIN][TXT][0][:5]}\")\n",
    "print(f\"Img emb: {embeddings_dict[TRAIN][IMG][0][:5]}\")\n",
    "print(f\"Feature: {hadamard_features[TRAIN][0][:5]}\")"
   ]
  },
  {
   "cell_type": "code",
   "execution_count": 40,
   "metadata": {
    "ExecuteTime": {
     "end_time": "2023-05-17T08:45:20.852310573Z",
     "start_time": "2023-05-17T08:45:20.827004087Z"
    },
    "collapsed": false
   },
   "outputs": [
    {
     "name": "stdout",
     "output_type": "stream",
     "text": [
      "Pickled: /home/jockl/Insync/check.worthiness@gmail.com/Google Drive/data/CT23_1A_checkworthy_multimodal_english_v2/features/hadamard/hadamard_train_v2.pickle\n",
      "Pickled: /home/jockl/Insync/check.worthiness@gmail.com/Google Drive/data/CT23_1A_checkworthy_multimodal_english_v2/features/hadamard/hadamard_dev_v2.pickle\n",
      "Pickled: /home/jockl/Insync/check.worthiness@gmail.com/Google Drive/data/CT23_1A_checkworthy_multimodal_english_v2/features/hadamard/hadamard_test_v2.pickle\n"
     ]
    }
   ],
   "source": [
    "# Pickle the feature matrix of every split in its own file\n",
    "utils.pickle_all_splits(hadamard_features, dataset_dir, feature_method=\"hadamard\", dataset_version=dataset_version)"
   ]
  },
  {
   "attachments": {},
   "cell_type": "markdown",
   "metadata": {
    "collapsed": false
   },
   "source": [
    "## 4. Naive Approaches Combined with Text/Image Similarity\n",
    "All the feature matrices from above can be supplemented with an additional feature dimension that captures the cosine similarity of every text-image-embedding-pair. It is the same for every method. Hence, we will compute the cosine similarity dimension once."
   ]
  },
  {
   "cell_type": "code",
   "execution_count": 41,
   "metadata": {
    "ExecuteTime": {
     "end_time": "2023-05-17T08:45:22.247706560Z",
     "start_time": "2023-05-17T08:45:22.222571683Z"
    },
    "collapsed": false
   },
   "outputs": [
    {
     "name": "stdout",
     "output_type": "stream",
     "text": [
      "1.0\n"
     ]
    }
   ],
   "source": [
    "# Sanity check: Cosine sim of a single embedding with itself\n",
    "print(fe.cosine(embeddings_dict[TRAIN][TXT][0], embeddings_dict[TRAIN][TXT][0]))"
   ]
  },
  {
   "cell_type": "code",
   "execution_count": 42,
   "metadata": {
    "ExecuteTime": {
     "end_time": "2023-05-17T08:45:23.755104787Z",
     "start_time": "2023-05-17T08:45:23.705240213Z"
    },
    "collapsed": false
   },
   "outputs": [
    {
     "name": "stdout",
     "output_type": "stream",
     "text": [
      "[1.         0.99999994 1.0000001  ... 1.         1.         0.99999994]\n"
     ]
    }
   ],
   "source": [
    "# Sanity check: Compute cosine array for a split with itself\n",
    "print(fe.compute_cosine_array(embeddings_dict[TRAIN][TXT], embeddings_dict[TRAIN][TXT]))"
   ]
  },
  {
   "cell_type": "code",
   "execution_count": 10,
   "metadata": {
    "ExecuteTime": {
     "end_time": "2023-05-17T08:45:25.028332633Z",
     "start_time": "2023-05-17T08:45:24.959609598Z"
    },
    "collapsed": false
   },
   "outputs": [
    {
     "name": "stdout",
     "output_type": "stream",
     "text": [
      "Split\tShape\n",
      "Tr\t(2356,)\n",
      "De\t(271,)\n",
      "Te\t(548,)\n"
     ]
    }
   ],
   "source": [
    "# Compute cosine similarity dimension for every split\n",
    "train_cosine_array = fe.compute_cosine_array(embeddings_dict[TRAIN][TXT], embeddings_dict[TRAIN][IMG])\n",
    "dev_cosine_array = fe.compute_cosine_array(embeddings_dict[DEV][TXT], embeddings_dict[DEV][IMG])\n",
    "test_cosine_array = fe.compute_cosine_array(embeddings_dict[TEST][TXT], embeddings_dict[TEST][IMG])\n",
    "\n",
    "# Save cosine sim dimension in a dict for easy referencing\n",
    "cosine_dict = {\n",
    "      TRAIN: train_cosine_array,\n",
    "      DEV: dev_cosine_array,\n",
    "      TEST:  test_cosine_array\n",
    "}\n",
    "\n",
    "# Check cosine sim shapes\n",
    "print(utils.table_feature_dims_per_split(cosine_dict))"
   ]
  },
  {
   "attachments": {},
   "cell_type": "markdown",
   "metadata": {
    "collapsed": false
   },
   "source": [
    "### 4.1 Concatenation + Cosine Similarity"
   ]
  },
  {
   "cell_type": "code",
   "execution_count": 11,
   "metadata": {
    "ExecuteTime": {
     "end_time": "2023-05-17T08:45:26.361774017Z",
     "start_time": "2023-05-17T08:45:26.303379741Z"
    },
    "collapsed": false
   },
   "outputs": [
    {
     "name": "stdout",
     "output_type": "stream",
     "text": [
      "Split\tShape\n",
      "Tr\t(2356, 1537)\n",
      "De\t(271, 1537)\n",
      "Te\t(548, 1537)\n"
     ]
    }
   ],
   "source": [
    "# Add cosine dim to every split\n",
    "concat_cos_features = fe.add_feature_dim_to_all_splits(concat_features, cosine_dict)\n",
    "print(utils.table_feature_dims_per_split(concat_cos_features))"
   ]
  },
  {
   "cell_type": "code",
   "execution_count": 45,
   "metadata": {
    "ExecuteTime": {
     "end_time": "2023-05-17T08:45:27.479884113Z",
     "start_time": "2023-05-17T08:45:27.415785960Z"
    },
    "collapsed": false
   },
   "outputs": [
    {
     "name": "stdout",
     "output_type": "stream",
     "text": [
      "Pickled: /home/jockl/Insync/check.worthiness@gmail.com/Google Drive/data/CT23_1A_checkworthy_multimodal_english_v2/features/concat_cos/concat_cos_train_v2.pickle\n",
      "Pickled: /home/jockl/Insync/check.worthiness@gmail.com/Google Drive/data/CT23_1A_checkworthy_multimodal_english_v2/features/concat_cos/concat_cos_dev_v2.pickle\n",
      "Pickled: /home/jockl/Insync/check.worthiness@gmail.com/Google Drive/data/CT23_1A_checkworthy_multimodal_english_v2/features/concat_cos/concat_cos_test_v2.pickle\n"
     ]
    }
   ],
   "source": [
    "# Pickle the feature matrix of every split in its own file\n",
    "utils.pickle_all_splits(concat_cos_features, dataset_dir, feature_method=\"concat_cos\", dataset_version=dataset_version)"
   ]
  },
  {
   "attachments": {},
   "cell_type": "markdown",
   "metadata": {
    "collapsed": false
   },
   "source": [
    "### 4.2 Sum + Cosine Similarity"
   ]
  },
  {
   "cell_type": "code",
   "execution_count": 12,
   "metadata": {
    "ExecuteTime": {
     "end_time": "2023-05-17T08:45:28.824172641Z",
     "start_time": "2023-05-17T08:45:28.794309265Z"
    },
    "collapsed": false
   },
   "outputs": [
    {
     "name": "stdout",
     "output_type": "stream",
     "text": [
      "Split\tShape\n",
      "Tr\t(2356, 769)\n",
      "De\t(271, 769)\n",
      "Te\t(548, 769)\n"
     ]
    }
   ],
   "source": [
    "# Add cosine dim to every split\n",
    "sum_cos_features = fe.add_feature_dim_to_all_splits(sum_features, cosine_dict)\n",
    "print(utils.table_feature_dims_per_split(sum_cos_features))"
   ]
  },
  {
   "cell_type": "code",
   "execution_count": 47,
   "metadata": {
    "ExecuteTime": {
     "end_time": "2023-05-17T08:45:29.926102399Z",
     "start_time": "2023-05-17T08:45:29.871673091Z"
    },
    "collapsed": false
   },
   "outputs": [
    {
     "name": "stdout",
     "output_type": "stream",
     "text": [
      "Pickled: /home/jockl/Insync/check.worthiness@gmail.com/Google Drive/data/CT23_1A_checkworthy_multimodal_english_v2/features/sum_cos/sum_cos_train_v2.pickle\n",
      "Pickled: /home/jockl/Insync/check.worthiness@gmail.com/Google Drive/data/CT23_1A_checkworthy_multimodal_english_v2/features/sum_cos/sum_cos_dev_v2.pickle\n",
      "Pickled: /home/jockl/Insync/check.worthiness@gmail.com/Google Drive/data/CT23_1A_checkworthy_multimodal_english_v2/features/sum_cos/sum_cos_test_v2.pickle\n"
     ]
    }
   ],
   "source": [
    "# Pickle the feature matrix of every split in its own file\n",
    "utils.pickle_all_splits(sum_cos_features, dataset_dir, feature_method=\"sum_cos\", dataset_version=dataset_version)"
   ]
  },
  {
   "attachments": {},
   "cell_type": "markdown",
   "metadata": {
    "collapsed": false
   },
   "source": [
    "### 4.3 Mean + Cosine Similarity"
   ]
  },
  {
   "cell_type": "code",
   "execution_count": 13,
   "metadata": {
    "ExecuteTime": {
     "end_time": "2023-05-17T08:45:31.267842303Z",
     "start_time": "2023-05-17T08:45:31.244403633Z"
    },
    "collapsed": false
   },
   "outputs": [
    {
     "name": "stdout",
     "output_type": "stream",
     "text": [
      "Split\tShape\n",
      "Tr\t(2356, 769)\n",
      "De\t(271, 769)\n",
      "Te\t(548, 769)\n"
     ]
    }
   ],
   "source": [
    "# Add cosine dim to every split\n",
    "mean_cos_features = fe.add_feature_dim_to_all_splits(mean_features, cosine_dict)\n",
    "print(utils.table_feature_dims_per_split(mean_cos_features))"
   ]
  },
  {
   "cell_type": "code",
   "execution_count": 49,
   "metadata": {
    "ExecuteTime": {
     "end_time": "2023-05-17T08:45:33.231294334Z",
     "start_time": "2023-05-17T08:45:33.186658772Z"
    },
    "collapsed": false
   },
   "outputs": [
    {
     "name": "stdout",
     "output_type": "stream",
     "text": [
      "Pickled: /home/jockl/Insync/check.worthiness@gmail.com/Google Drive/data/CT23_1A_checkworthy_multimodal_english_v2/features/mean_cos/mean_cos_train_v2.pickle\n",
      "Pickled: /home/jockl/Insync/check.worthiness@gmail.com/Google Drive/data/CT23_1A_checkworthy_multimodal_english_v2/features/mean_cos/mean_cos_dev_v2.pickle\n",
      "Pickled: /home/jockl/Insync/check.worthiness@gmail.com/Google Drive/data/CT23_1A_checkworthy_multimodal_english_v2/features/mean_cos/mean_cos_test_v2.pickle\n"
     ]
    }
   ],
   "source": [
    "# Pickle the feature matrix of every split in its own file\n",
    "utils.pickle_all_splits(mean_cos_features, dataset_dir, feature_method=\"mean_cos\", dataset_version=dataset_version)"
   ]
  },
  {
   "attachments": {},
   "cell_type": "markdown",
   "metadata": {
    "collapsed": false
   },
   "source": [
    "### 4.4 Hadamard Product + Cosine Similarity"
   ]
  },
  {
   "cell_type": "code",
   "execution_count": 14,
   "metadata": {
    "ExecuteTime": {
     "end_time": "2023-05-17T08:45:34.507710634Z",
     "start_time": "2023-05-17T08:45:34.485263400Z"
    },
    "collapsed": false
   },
   "outputs": [
    {
     "name": "stdout",
     "output_type": "stream",
     "text": [
      "Split\tShape\n",
      "Tr\t(2356, 769)\n",
      "De\t(271, 769)\n",
      "Te\t(548, 769)\n"
     ]
    }
   ],
   "source": [
    "# Add cosine dim to every split\n",
    "hadamard_cos_features = fe.add_feature_dim_to_all_splits(hadamard_features, cosine_dict)\n",
    "print(utils.table_feature_dims_per_split(hadamard_cos_features))"
   ]
  },
  {
   "cell_type": "code",
   "execution_count": 51,
   "metadata": {
    "ExecuteTime": {
     "end_time": "2023-05-17T08:45:35.726544955Z",
     "start_time": "2023-05-17T08:45:35.701015173Z"
    },
    "collapsed": false
   },
   "outputs": [
    {
     "name": "stdout",
     "output_type": "stream",
     "text": [
      "Pickled: /home/jockl/Insync/check.worthiness@gmail.com/Google Drive/data/CT23_1A_checkworthy_multimodal_english_v2/features/hadamard_cos/hadamard_cos_train_v2.pickle\n",
      "Pickled: /home/jockl/Insync/check.worthiness@gmail.com/Google Drive/data/CT23_1A_checkworthy_multimodal_english_v2/features/hadamard_cos/hadamard_cos_dev_v2.pickle\n",
      "Pickled: /home/jockl/Insync/check.worthiness@gmail.com/Google Drive/data/CT23_1A_checkworthy_multimodal_english_v2/features/hadamard_cos/hadamard_cos_test_v2.pickle\n"
     ]
    }
   ],
   "source": [
    "# Pickle the feature matrix of every split in its own file\n",
    "utils.pickle_all_splits(hadamard_cos_features, dataset_dir, feature_method=\"hadamard_cos\", dataset_version=dataset_version)"
   ]
  },
  {
   "attachments": {},
   "cell_type": "markdown",
   "metadata": {
    "collapsed": false
   },
   "source": [
    "## 5. Storage\n",
    "Every presented feature engineering method yields three files, one for every split. For example, the files for the concat_cos are stored in:\n",
    "data/CT23_1A_checkworthy_multimodal_english_v2/features/concat_cos/"
   ]
  },
  {
   "attachments": {},
   "cell_type": "markdown",
   "metadata": {
    "collapsed": false
   },
   "source": [
    "## 6. Load pickled features and labels\n",
    "This section shows how to load a pickled feature matrix."
   ]
  },
  {
   "cell_type": "code",
   "execution_count": 52,
   "metadata": {
    "ExecuteTime": {
     "end_time": "2023-05-17T08:45:37.966930547Z",
     "start_time": "2023-05-17T08:45:37.948744687Z"
    },
    "collapsed": false
   },
   "outputs": [
    {
     "name": "stdout",
     "output_type": "stream",
     "text": [
      "<class 'numpy.ndarray'>\n",
      "(2356, 769)\n"
     ]
    }
   ],
   "source": [
    "# Example: Load the mean_cos feature matrix of the train split\n",
    "file_path = f\"{dataset_dir}/features/mean_cos/mean_cos_train_{dataset_version}.pickle\"\n",
    "train_mean_cos_features = np.load(file_path, allow_pickle=True)\n",
    "print(type(train_mean_cos_features))\n",
    "print(train_mean_cos_features.shape)"
   ]
  },
  {
   "cell_type": "code",
   "execution_count": 53,
   "metadata": {
    "ExecuteTime": {
     "end_time": "2023-05-17T08:45:39.193310351Z",
     "start_time": "2023-05-17T08:45:39.166779470Z"
    },
    "collapsed": false
   },
   "outputs": [
    {
     "name": "stdout",
     "output_type": "stream",
     "text": [
      "<class 'numpy.ndarray'>\n",
      "(2356,)\n"
     ]
    }
   ],
   "source": [
    "# Example: Load the train labels\n",
    "file_path = f\"{dataset_dir}/labels/train_labels_{dataset_version}.pickle\"\n",
    "labels = np.load(file_path, allow_pickle=True)\n",
    "print(type(labels))\n",
    "print(labels.shape)"
   ]
  },
  {
   "attachments": {},
   "cell_type": "markdown",
   "metadata": {
    "collapsed": false
   },
   "source": [
    "## 7. Further Feature Engineering Methods\n",
    "For future approaches beyond the baseline, collect  more subtle feature engineering methods here:\n",
    "- RpBERT: https://ar5iv.labs.arxiv.org/html/2102.02967"
   ]
  }
 ],
 "metadata": {
  "kernelspec": {
   "display_name": "IN4249_virtual_env2_py3-10-9_kernel",
   "language": "python",
   "name": "in4249_virtual_env2_py3-10-9_kernel"
  },
  "language_info": {
   "codemirror_mode": {
    "name": "ipython",
    "version": 3
   },
   "file_extension": ".py",
   "mimetype": "text/x-python",
   "name": "python",
   "nbconvert_exporter": "python",
   "pygments_lexer": "ipython3",
   "version": "3.10.9"
  }
 },
 "nbformat": 4,
 "nbformat_minor": 0
}
