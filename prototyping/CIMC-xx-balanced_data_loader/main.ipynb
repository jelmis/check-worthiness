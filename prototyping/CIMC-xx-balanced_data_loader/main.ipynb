{
 "cells": [
  {
   "cell_type": "markdown",
   "metadata": {},
   "source": [
    "# Training of -layer NN with basic features\n",
    "In this notebook, a vanilla 2-layer neural network is trained on all basic-engineered features.\n",
    "\n",
    "- ReLU after the first liner layer\n",
    "- Sigmoid after the second linear layer\n",
    "- Batch Size: 64\n",
    "- Hidden dim: 16\n",
    "- Learning Rate: 0.1\n",
    "- Num. of epochs: 100\n",
    "\n",
    "We will save the models in \"models/vanillann\" of our Google Drive.\n"
   ]
  },
  {
   "cell_type": "markdown",
   "metadata": {},
   "source": [
    "## 0. Imports and Constants\n",
    "- Change the path in \"cw_dir\" to your local Google Drive sync location"
   ]
  },
  {
   "cell_type": "code",
   "execution_count": 2,
   "metadata": {
    "ExecuteTime": {
     "end_time": "2023-05-19T18:18:50.873593399Z",
     "start_time": "2023-05-19T18:18:50.690986333Z"
    }
   },
   "outputs": [
    {
     "name": "stdout",
     "output_type": "stream",
     "text": [
      "The autoreload extension is already loaded. To reload it, use:\n",
      "  %reload_ext autoreload\n"
     ]
    }
   ],
   "source": [
    "############## AUTORELOAD MAGIC ###################\n",
    "%load_ext autoreload\n",
    "%autoreload 2\n",
    "###################################################\n",
    "\n",
    "############## FUNDAMENTAL MODULES ################\n",
    "import json\n",
    "from PIL import Image\n",
    "import os\n",
    "import sys\n",
    "import copy\n",
    "import matplotlib.pyplot as plt\n",
    "import numpy as np\n",
    "import pickle\n",
    "import re\n",
    " ##################################################\n",
    "\n",
    "############## TASK-SPECIFIC MODULES ##############\n",
    "sys.path.append(os.path.join(os.getcwd(),\"src\"))\n",
    "from vanilla_dataset import VanillaDataset, DataLoader\n",
    "from vanilla_nn import VanillaNN\n",
    "from evaluate import evaluate_model\n",
    "from train import training_loop, plot_losses\n",
    "from dataloader import custom_dataloader\n",
    "###################################################\n",
    "\n",
    "\n",
    "####################### CONSTANTS ########################\n",
    "users = [\"patriziopalmisano\", \"onurdenizguler\", \"jockl\"]\n",
    "SPLITS = [\"train\", \"dev\", \"test\"]\n",
    "TRAIN, DEV, TEST, TXT, IMG = \"train\", \"dev\", \"test\", \"txt\", \"img\"\n",
    "FE_METHODS = [\"txt_embeddings\", \"img_embeddings\", \"concat\", \"sum\", \"mean\", \"hadamard\"]\n",
    "#FE_METHODS += [\"concat_cos\", \"sum_cos\", \"mean_cos\", \"hadamard_cos\"]\n",
    "##########################################################\n",
    "\n",
    "############## DATA SCIENCE & ML MODULES #################\n",
    "from transformers import CLIPTokenizerFast, CLIPProcessor, CLIPModel\n",
    "import torch\n",
    "import pandas as pd\n",
    "from scipy import stats\n",
    "from sklearn.svm import SVC\n",
    "from sklearn.metrics import classification_report\n",
    "##########################################################\n",
    "\n",
    "####################### SELECT ###########################\n",
    "user = users[0] # SELECT USER\n",
    "version = \"v2\" # SELECT DATASET VERSION\n",
    "dataset_version = version\n",
    "##########################################################\n",
    "\n",
    "if user in users[:2]:\n",
    "    data_dir = f\"/Users/{user}/Library/CloudStorage/GoogleDrive-check.worthiness@gmail.com/My Drive/data/CT23_1A_checkworthy_multimodal_english_{version}\"\n",
    "    cw_dir = f\"/Users/{user}/Library/CloudStorage/GoogleDrive-check.worthiness@gmail.com/My Drive/\"\n",
    "\n",
    "else:\n",
    "    data_dir = f\"/home/jockl/Insync/check.worthiness@gmail.com/Google Drive/data/CT23_1A_checkworthy_multimodal_english_{dataset_version}\"\n",
    "    cw_dir = \"/home/jockl/Insync/check.worthiness@gmail.com/Google Drive\"\n",
    "\n",
    "features_dir = f\"{data_dir}/features\"\n",
    "labels_dir = f\"{data_dir}/labels\"\n",
    "models_dir = f\"{cw_dir}/models/vanillannWithVal\""
   ]
  },
  {
   "cell_type": "markdown",
   "metadata": {},
   "source": [
    "# 1. Dictionary Keys\n",
    "In this notebook, we will use dictionaries to reference corresponding data splits, feature engineering methods, labels, dataloaders etc. The following keys are used all the way:"
   ]
  },
  {
   "cell_type": "code",
   "execution_count": 3,
   "metadata": {
    "ExecuteTime": {
     "end_time": "2023-05-19T18:18:50.884064419Z",
     "start_time": "2023-05-19T18:18:50.730613234Z"
    }
   },
   "outputs": [],
   "source": [
    "# CONSTANT DICT KEYS -> MOVED TO IMPORTS!!!!\n",
    "# SPLITS = [\"train\", \"dev\", \"test\"]\n",
    "# FE_METHODS = [\"concat\", \"concat_cos\", \"sum\", \"sum_cos\", \"mean\", \"mean_cos\", \"hadamard\", \"hadamard_cos\"]"
   ]
  },
  {
   "cell_type": "markdown",
   "metadata": {},
   "source": [
    "Note that the test split is not used in this notebook!"
   ]
  },
  {
   "cell_type": "markdown",
   "metadata": {},
   "source": [
    "## 2. Load Training, Dev and Test Labels\n",
    "First, we load the labels from the pickle files. We will later use them to set up our Dataloaders."
   ]
  },
  {
   "cell_type": "code",
   "execution_count": 4,
   "metadata": {
    "ExecuteTime": {
     "end_time": "2023-05-19T18:18:50.899785432Z",
     "start_time": "2023-05-19T18:18:50.759824782Z"
    }
   },
   "outputs": [],
   "source": [
    "# Load training and dev labels from pickle file as np.array\n",
    "split_to_labels = {split: np.load(f\"{labels_dir}/{split}_labels_{dataset_version}.pickle\", allow_pickle=True) for split in SPLITS}"
   ]
  },
  {
   "cell_type": "markdown",
   "metadata": {},
   "source": [
    "Our label arrays have the following dimensions:"
   ]
  },
  {
   "cell_type": "code",
   "execution_count": 5,
   "metadata": {
    "ExecuteTime": {
     "end_time": "2023-05-19T18:18:50.900173310Z",
     "start_time": "2023-05-19T18:18:50.821873012Z"
    }
   },
   "outputs": [
    {
     "name": "stdout",
     "output_type": "stream",
     "text": [
      "train labels: (2356,) [1 1 0 1 0 0 0 0 0 0]\n",
      "dev labels: (271,) [0 0 0 1 1 0 0 0 1 1]\n",
      "test labels: (548,) [0 1 0 0 1 0 0 0 0 0]\n"
     ]
    }
   ],
   "source": [
    "for split in SPLITS:\n",
    "    print(f\"{split} labels: {split_to_labels[split].shape} {split_to_labels[split][:10]}\")"
   ]
  },
  {
   "cell_type": "markdown",
   "metadata": {},
   "source": [
    "## 3. Load Engineered Features\n",
    "Now, all engineered feature matrices for the train and dev split are loaded from their respective pickle files. We store them in a dictionary that maps split to feature method feature matrix.\n"
   ]
  },
  {
   "cell_type": "code",
   "execution_count": 6,
   "metadata": {
    "ExecuteTime": {
     "end_time": "2023-05-19T18:18:50.900987040Z",
     "start_time": "2023-05-19T18:18:50.822418678Z"
    }
   },
   "outputs": [],
   "source": [
    "# Load all engineered feature matrices for train and dev split\n",
    "split_to_method_to_matrix = {split: {fe_method: np.load(f\"{features_dir}/{fe_method}/{fe_method}_{split}_{dataset_version}.pickle\", allow_pickle=True) for fe_method in FE_METHODS} for split in SPLITS}"
   ]
  },
  {
   "cell_type": "markdown",
   "metadata": {},
   "source": [
    "Those are the shapes of our feature matrices:"
   ]
  },
  {
   "cell_type": "code",
   "execution_count": 7,
   "metadata": {
    "ExecuteTime": {
     "end_time": "2023-05-19T18:18:50.984317652Z",
     "start_time": "2023-05-19T18:18:50.856045421Z"
    }
   },
   "outputs": [
    {
     "name": "stdout",
     "output_type": "stream",
     "text": [
      "train, txt_embeddings: (2356, 768)\n",
      "train, img_embeddings: (2356, 768)\n",
      "train, concat: (2356, 1536)\n",
      "train, sum: (2356, 768)\n",
      "train, mean: (2356, 768)\n",
      "train, hadamard: (2356, 768)\n",
      "dev, txt_embeddings: (271, 768)\n",
      "dev, img_embeddings: (271, 768)\n",
      "dev, concat: (271, 1536)\n",
      "dev, sum: (271, 768)\n",
      "dev, mean: (271, 768)\n",
      "dev, hadamard: (271, 768)\n",
      "test, txt_embeddings: (548, 768)\n",
      "test, img_embeddings: (548, 768)\n",
      "test, concat: (548, 1536)\n",
      "test, sum: (548, 768)\n",
      "test, mean: (548, 768)\n",
      "test, hadamard: (548, 768)\n"
     ]
    }
   ],
   "source": [
    "for split in SPLITS:\n",
    "    for fe_method in FE_METHODS:\n",
    "        print(f\"{split}, {fe_method}: {split_to_method_to_matrix[split][fe_method].shape}\")"
   ]
  },
  {
   "cell_type": "markdown",
   "metadata": {},
   "source": [
    "# 3. Set up the PyTorch Datasets and Dataloaders\n",
    "We set up a PyTorch Dataset and a Dataloader for every split and feature matrix loaded in the previous section. First, we define a batch size that every Dataloader uses. This batch size is constant throughout this notebook."
   ]
  },
  {
   "cell_type": "code",
   "execution_count": 8,
   "metadata": {
    "ExecuteTime": {
     "end_time": "2023-05-19T18:18:50.986372066Z",
     "start_time": "2023-05-19T18:18:50.879723498Z"
    }
   },
   "outputs": [],
   "source": [
    "# Define hyperparameters\n",
    "# Define batch size for all Dataloaders\n",
    "batch_size = 16"
   ]
  },
  {
   "cell_type": "markdown",
   "metadata": {},
   "source": [
    "Now, we instantiate our Datasets and Dataloaders."
   ]
  },
  {
   "cell_type": "code",
   "execution_count": 9,
   "metadata": {
    "ExecuteTime": {
     "end_time": "2023-05-19T18:18:50.987192837Z",
     "start_time": "2023-05-19T18:18:50.912338300Z"
    }
   },
   "outputs": [],
   "source": [
    "# Instantiate VanillaDatasets\n",
    "split_to_method_to_dataset = {split: {fe_method: VanillaDataset(split_to_method_to_matrix[split][fe_method], split_to_labels[split]) for fe_method in FE_METHODS} for split in SPLITS}\n",
    "\n",
    "# Instantiate Dataloaders\n",
    "split_to_method_to_dataloader = {split: {fe_method: DataLoader(split_to_method_to_dataset[split][fe_method], batch_size=batch_size) for fe_method in FE_METHODS} for split in SPLITS}"
   ]
  },
  {
   "cell_type": "markdown",
   "metadata": {},
   "source": [
    "Let's have a look at the first batch from the dataloader of the train split, using the plainly concatenated features:"
   ]
  },
  {
   "cell_type": "code",
   "execution_count": 13,
   "metadata": {
    "ExecuteTime": {
     "end_time": "2023-05-19T18:18:51.044585041Z",
     "start_time": "2023-05-19T18:18:50.956340436Z"
    }
   },
   "outputs": [
    {
     "name": "stdout",
     "output_type": "stream",
     "text": [
      "No. of examples in the training set: 768\n",
      "Batch No: 0\n",
      "features in batch: torch.Size([16, 768])\n",
      "labels in batch: torch.Size([16])\n",
      "2356\n",
      "Batch No: 0\n",
      "features in batch: torch.Size([16, 768])\n",
      "labels in batch: torch.Size([16])\n"
     ]
    }
   ],
   "source": [
    "# Get example dataset/dataloader from the dictionaries\n",
    "example_train_loader = split_to_method_to_dataloader[\"train\"][\"txt_embeddings\"]\n",
    "example_train_set = split_to_method_to_dataset[\"train\"][\"txt_embeddings\"]\n",
    "\n",
    "# Print info\n",
    "print(f\"No. of examples in the training set: {len(example_train_set[0][0])}\")\n",
    "for batch_no, batch in enumerate(example_train_loader):\n",
    "    print(f\"Batch No: {batch_no}\\nfeatures in batch: {batch[0].shape}\\nlabels in batch: {batch[1].shape}\")\n",
    "    break\n",
    "print(len(example_train_set))\n",
    "a = custom_dataloader(split_to_method_to_dataset['train']['txt_embeddings'], 'train', batch_size=16)\n",
    "for batch_no, batch in enumerate(a):\n",
    "    print(f\"Batch No: {batch_no}\\nfeatures in batch: {batch[0].shape}\\nlabels in batch: {batch[1].shape}\")\n",
    "    break"
   ]
  },
  {
   "cell_type": "markdown",
   "metadata": {},
   "source": [
    "# 5. Train and Save Models\n",
    "In this section, we train a network for all feature engineering methods. The following parameters are used:"
   ]
  },
  {
   "cell_type": "markdown",
   "metadata": {},
   "source": [
    "## 5.1 Train a model with unbalanced batches"
   ]
  },
  {
   "cell_type": "code",
   "execution_count": 14,
   "metadata": {},
   "outputs": [],
   "source": [
    "device = torch.device('cpu')"
   ]
  },
  {
   "cell_type": "code",
   "execution_count": 15,
   "metadata": {},
   "outputs": [],
   "source": [
    "# Train a model on the \"text_embedding\" features\n",
    "# Get dataset and dataloader\n",
    "fe_method = \"txt_embeddings\"\n",
    "train_set = split_to_method_to_dataset[\"train\"][fe_method]\n",
    "train_dataloader = split_to_method_to_dataloader[\"train\"][fe_method]\n",
    "dev_set = split_to_method_to_dataset[\"dev\"][fe_method]\n",
    "dev_dataloader = split_to_method_to_dataloader[\"dev\"][fe_method]\n",
    "test_set = split_to_method_to_dataset[\"test\"][fe_method]\n",
    "test_dataloader = split_to_method_to_dataloader[\"test\"][fe_method]"
   ]
  },
  {
   "cell_type": "code",
   "execution_count": 16,
   "metadata": {},
   "outputs": [
    {
     "name": "stderr",
     "output_type": "stream",
     "text": [
      "100%|██████████████████████████████████████████████████████████████████████████████████████████████████████| 175/175 [00:05<00:00, 30.50it/s]\n"
     ]
    },
    {
     "data": {
      "image/png": "[encoded data removed]",
      "text/plain": [
       "<Figure size 800x500 with 1 Axes>"
      ]
     },
     "metadata": {},
     "output_type": "display_data"
    }
   ],
   "source": [
    "# Model Hyperparameters\n",
    "input_dim = len(train_set[0][0])\n",
    "output_dim = 1\n",
    "layer_sizes = [input_dim, 64, 32, output_dim]\n",
    "model = VanillaNN(layer_sizes)\n",
    "model.to(device)\n",
    "# Training Hyperparameters\n",
    "loss_fn = torch.nn.BCELoss()\n",
    "lr = 5e-4\n",
    "optimizer = torch.optim.SGD(model.parameters(), lr=lr)\n",
    "num_epochs = 175\n",
    "\n",
    "#Train the model\n",
    "train_losses, val_losses = training_loop(device, train_dataloader, dev_dataloader, optimizer, model, loss_fn, num_epochs)\n",
    "\n",
    "# Plot losses\n",
    "plot_losses(num_epochs, train_losses, val_losses, fe_method)"
   ]
  },
  {
   "cell_type": "code",
   "execution_count": 17,
   "metadata": {},
   "outputs": [
    {
     "name": "stdout",
     "output_type": "stream",
     "text": [
      "\n",
      "txt_embeddings\n",
      "\n",
      "              precision    recall  f1-score   support\n",
      "\n",
      "         0.0       0.87      0.88      0.87       374\n",
      "         1.0       0.73      0.71      0.72       174\n",
      "\n",
      "    accuracy                           0.83       548\n",
      "   macro avg       0.80      0.80      0.80       548\n",
      "weighted avg       0.83      0.83      0.83       548\n",
      "\n"
     ]
    }
   ],
   "source": [
    "# Compute basic metrics\n",
    "print(f\"\\n{fe_method}\\n\")\n",
    "model.to(\"cpu\")\n",
    "print(evaluate_model(model, test_dataloader))"
   ]
  },
  {
   "cell_type": "markdown",
   "metadata": {},
   "source": [
    "## 5.1 Train a model with balanced batches\n"
   ]
  },
  {
   "cell_type": "code",
   "execution_count": 18,
   "metadata": {},
   "outputs": [],
   "source": [
    "# Train a model on the \"text_embedding\" features\n",
    "# Get dataset and dataloader\n",
    "fe_method = \"txt_embeddings\"\n",
    "train_set = split_to_method_to_dataset[\"train\"][fe_method]\n",
    "train_dataloader = custom_dataloader(split_to_method_to_dataset['train'][fe_method], 'train', batch_size=batch_size)\n",
    "dev_set = split_to_method_to_dataset[\"dev\"][fe_method]\n",
    "dev_dataloader = split_to_method_to_dataloader[\"dev\"][fe_method]\n",
    "test_set = split_to_method_to_dataset[\"test\"][fe_method]\n",
    "test_dataloader = split_to_method_to_dataloader[\"test\"][fe_method]"
   ]
  },
  {
   "cell_type": "code",
   "execution_count": 19,
   "metadata": {},
   "outputs": [
    {
     "name": "stderr",
     "output_type": "stream",
     "text": [
      "100%|██████████████████████████████████████████████████████████████████████████████████████████████████████| 175/175 [00:05<00:00, 30.33it/s]\n"
     ]
    },
    {
     "data": {
      "image/png": "[encoded data removed]",
      "text/plain": [
       "<Figure size 800x500 with 1 Axes>"
      ]
     },
     "metadata": {},
     "output_type": "display_data"
    }
   ],
   "source": [
    "# Model Hyperparameters\n",
    "input_dim = len(train_set[0][0])\n",
    "output_dim = 1\n",
    "layer_sizes = [input_dim, 64, 32, output_dim]\n",
    "model = VanillaNN(layer_sizes)\n",
    "model.to(device)\n",
    "# Training Hyperparameters\n",
    "loss_fn = torch.nn.BCELoss()\n",
    "lr = 5e-4\n",
    "optimizer = torch.optim.SGD(model.parameters(), lr=lr)\n",
    "num_epochs = 175\n",
    "\n",
    "#Train the model\n",
    "train_losses, val_losses = training_loop(device, train_dataloader, dev_dataloader, optimizer, model, loss_fn, num_epochs)\n",
    "\n",
    "# Plot losses\n",
    "plot_losses(num_epochs, train_losses, val_losses, fe_method)"
   ]
  },
  {
   "cell_type": "markdown",
   "metadata": {},
   "source": [
    "# 7. Load Models and Evaluate\n",
    "In this section, we load our trained models and compute basic metrics on the test data."
   ]
  },
  {
   "cell_type": "code",
   "execution_count": 13,
   "metadata": {},
   "outputs": [
    {
     "name": "stdout",
     "output_type": "stream",
     "text": [
      "\n",
      "concat\n",
      "\n",
      "              precision    recall  f1-score   support\n",
      "\n",
      "         0.0       0.68      1.00      0.81       374\n",
      "         1.0       0.00      0.00      0.00       174\n",
      "\n",
      "    accuracy                           0.68       548\n",
      "   macro avg       0.34      0.50      0.41       548\n",
      "weighted avg       0.47      0.68      0.55       548\n",
      "\n",
      "\n",
      "concat_cos\n",
      "\n",
      "              precision    recall  f1-score   support\n",
      "\n",
      "         0.0       0.75      0.97      0.85       374\n",
      "         1.0       0.83      0.30      0.44       174\n",
      "\n",
      "    accuracy                           0.76       548\n",
      "   macro avg       0.79      0.63      0.64       548\n",
      "weighted avg       0.77      0.76      0.72       548\n",
      "\n",
      "\n",
      "sum\n",
      "\n",
      "              precision    recall  f1-score   support\n",
      "\n",
      "         0.0       0.74      0.96      0.83       374\n",
      "         1.0       0.75      0.26      0.39       174\n",
      "\n",
      "    accuracy                           0.74       548\n",
      "   macro avg       0.75      0.61      0.61       548\n",
      "weighted avg       0.74      0.74      0.69       548\n",
      "\n",
      "\n",
      "sum_cos\n",
      "\n",
      "              precision    recall  f1-score   support\n",
      "\n",
      "         0.0       0.73      0.95      0.83       374\n",
      "         1.0       0.71      0.26      0.38       174\n",
      "\n",
      "    accuracy                           0.73       548\n",
      "   macro avg       0.72      0.61      0.60       548\n",
      "weighted avg       0.73      0.73      0.69       548\n",
      "\n",
      "\n",
      "mean\n",
      "\n",
      "              precision    recall  f1-score   support\n",
      "\n",
      "         0.0       0.68      1.00      0.81       374\n",
      "         1.0       0.00      0.00      0.00       174\n",
      "\n",
      "    accuracy                           0.68       548\n",
      "   macro avg       0.34      0.50      0.41       548\n",
      "weighted avg       0.47      0.68      0.55       548\n",
      "\n",
      "\n",
      "mean_cos\n",
      "\n",
      "              precision    recall  f1-score   support\n",
      "\n",
      "         0.0       0.68      1.00      0.81       374\n",
      "         1.0       0.00      0.00      0.00       174\n",
      "\n",
      "    accuracy                           0.68       548\n",
      "   macro avg       0.34      0.50      0.41       548\n",
      "weighted avg       0.47      0.68      0.55       548\n",
      "\n",
      "\n",
      "hadamard\n",
      "\n",
      "              precision    recall  f1-score   support\n",
      "\n",
      "         0.0       0.68      1.00      0.81       374\n",
      "         1.0       0.00      0.00      0.00       174\n",
      "\n",
      "    accuracy                           0.68       548\n",
      "   macro avg       0.34      0.50      0.41       548\n",
      "weighted avg       0.47      0.68      0.55       548\n",
      "\n",
      "\n",
      "hadamard_cos\n",
      "\n",
      "              precision    recall  f1-score   support\n",
      "\n",
      "         0.0       0.68      1.00      0.81       374\n",
      "         1.0       0.00      0.00      0.00       174\n",
      "\n",
      "    accuracy                           0.68       548\n",
      "   macro avg       0.34      0.50      0.41       548\n",
      "weighted avg       0.47      0.68      0.55       548\n",
      "\n"
     ]
    },
    {
     "name": "stderr",
     "output_type": "stream",
     "text": [
      "/Users/patriziopalmisano/miniforge3/envs/cw_env/lib/python3.10/site-packages/sklearn/metrics/_classification.py:1245: UndefinedMetricWarning: Precision and F-score are ill-defined and being set to 0.0 in labels with no predicted samples. Use `zero_division` parameter to control this behavior.\n",
      "  _warn_prf(average, modifier, msg_start, len(result))\n",
      "/Users/patriziopalmisano/miniforge3/envs/cw_env/lib/python3.10/site-packages/sklearn/metrics/_classification.py:1245: UndefinedMetricWarning: Precision and F-score are ill-defined and being set to 0.0 in labels with no predicted samples. Use `zero_division` parameter to control this behavior.\n",
      "  _warn_prf(average, modifier, msg_start, len(result))\n",
      "/Users/patriziopalmisano/miniforge3/envs/cw_env/lib/python3.10/site-packages/sklearn/metrics/_classification.py:1245: UndefinedMetricWarning: Precision and F-score are ill-defined and being set to 0.0 in labels with no predicted samples. Use `zero_division` parameter to control this behavior.\n",
      "  _warn_prf(average, modifier, msg_start, len(result))\n",
      "/Users/patriziopalmisano/miniforge3/envs/cw_env/lib/python3.10/site-packages/sklearn/metrics/_classification.py:1245: UndefinedMetricWarning: Precision and F-score are ill-defined and being set to 0.0 in labels with no predicted samples. Use `zero_division` parameter to control this behavior.\n",
      "  _warn_prf(average, modifier, msg_start, len(result))\n",
      "/Users/patriziopalmisano/miniforge3/envs/cw_env/lib/python3.10/site-packages/sklearn/metrics/_classification.py:1245: UndefinedMetricWarning: Precision and F-score are ill-defined and being set to 0.0 in labels with no predicted samples. Use `zero_division` parameter to control this behavior.\n",
      "  _warn_prf(average, modifier, msg_start, len(result))\n",
      "/Users/patriziopalmisano/miniforge3/envs/cw_env/lib/python3.10/site-packages/sklearn/metrics/_classification.py:1245: UndefinedMetricWarning: Precision and F-score are ill-defined and being set to 0.0 in labels with no predicted samples. Use `zero_division` parameter to control this behavior.\n",
      "  _warn_prf(average, modifier, msg_start, len(result))\n",
      "/Users/patriziopalmisano/miniforge3/envs/cw_env/lib/python3.10/site-packages/sklearn/metrics/_classification.py:1245: UndefinedMetricWarning: Precision and F-score are ill-defined and being set to 0.0 in labels with no predicted samples. Use `zero_division` parameter to control this behavior.\n",
      "  _warn_prf(average, modifier, msg_start, len(result))\n",
      "/Users/patriziopalmisano/miniforge3/envs/cw_env/lib/python3.10/site-packages/sklearn/metrics/_classification.py:1245: UndefinedMetricWarning: Precision and F-score are ill-defined and being set to 0.0 in labels with no predicted samples. Use `zero_division` parameter to control this behavior.\n",
      "  _warn_prf(average, modifier, msg_start, len(result))\n",
      "/Users/patriziopalmisano/miniforge3/envs/cw_env/lib/python3.10/site-packages/sklearn/metrics/_classification.py:1245: UndefinedMetricWarning: Precision and F-score are ill-defined and being set to 0.0 in labels with no predicted samples. Use `zero_division` parameter to control this behavior.\n",
      "  _warn_prf(average, modifier, msg_start, len(result))\n",
      "/Users/patriziopalmisano/miniforge3/envs/cw_env/lib/python3.10/site-packages/sklearn/metrics/_classification.py:1245: UndefinedMetricWarning: Precision and F-score are ill-defined and being set to 0.0 in labels with no predicted samples. Use `zero_division` parameter to control this behavior.\n",
      "  _warn_prf(average, modifier, msg_start, len(result))\n",
      "/Users/patriziopalmisano/miniforge3/envs/cw_env/lib/python3.10/site-packages/sklearn/metrics/_classification.py:1245: UndefinedMetricWarning: Precision and F-score are ill-defined and being set to 0.0 in labels with no predicted samples. Use `zero_division` parameter to control this behavior.\n",
      "  _warn_prf(average, modifier, msg_start, len(result))\n",
      "/Users/patriziopalmisano/miniforge3/envs/cw_env/lib/python3.10/site-packages/sklearn/metrics/_classification.py:1245: UndefinedMetricWarning: Precision and F-score are ill-defined and being set to 0.0 in labels with no predicted samples. Use `zero_division` parameter to control this behavior.\n",
      "  _warn_prf(average, modifier, msg_start, len(result))\n",
      "/Users/patriziopalmisano/miniforge3/envs/cw_env/lib/python3.10/site-packages/sklearn/metrics/_classification.py:1245: UndefinedMetricWarning: Precision and F-score are ill-defined and being set to 0.0 in labels with no predicted samples. Use `zero_division` parameter to control this behavior.\n",
      "  _warn_prf(average, modifier, msg_start, len(result))\n",
      "/Users/patriziopalmisano/miniforge3/envs/cw_env/lib/python3.10/site-packages/sklearn/metrics/_classification.py:1245: UndefinedMetricWarning: Precision and F-score are ill-defined and being set to 0.0 in labels with no predicted samples. Use `zero_division` parameter to control this behavior.\n",
      "  _warn_prf(average, modifier, msg_start, len(result))\n",
      "/Users/patriziopalmisano/miniforge3/envs/cw_env/lib/python3.10/site-packages/sklearn/metrics/_classification.py:1245: UndefinedMetricWarning: Precision and F-score are ill-defined and being set to 0.0 in labels with no predicted samples. Use `zero_division` parameter to control this behavior.\n",
      "  _warn_prf(average, modifier, msg_start, len(result))\n"
     ]
    }
   ],
   "source": [
    "# Evaluate model for every feature engineering method\n",
    "for fe_method in FE_METHODS:\n",
    "   \n",
    "    # Get dev dataset and dev dataloader\n",
    "    test_set = split_to_method_to_dataset[\"test\"][fe_method]\n",
    "    test_dataloader = split_to_method_to_dataloader[\"test\"][fe_method]\n",
    "\n",
    "    # Instantiate the model\n",
    "    input_dim = len(test_set[0][0])\n",
    "    model = VanillaNN(input_dim, hidden_dim, output_dim)\n",
    "\n",
    "    # Load the model \n",
    "    path = f\"{models_dir}/{fe_method}_{dataset_version}.pt\"\n",
    "    model.load_state_dict(torch.load(path))\n",
    "    model.eval()\n",
    "\n",
    "    # Compute basic metrics\n",
    "    print(f\"\\n{fe_method}\\n\")\n",
    "    print(evaluate_model(model, test_dataloader))"
   ]
  },
  {
   "cell_type": "code",
   "execution_count": null,
   "metadata": {},
   "outputs": [],
   "source": []
  }
 ],
 "metadata": {
  "kernelspec": {
   "display_name": "cw_env_kernel",
   "language": "python",
   "name": "cw_env_kernel"
  },
  "language_info": {
   "codemirror_mode": {
    "name": "ipython",
    "version": 3
   },
   "file_extension": ".py",
   "mimetype": "text/x-python",
   "name": "python",
   "nbconvert_exporter": "python",
   "pygments_lexer": "ipython3",
   "version": "3.10.10"
  }
 },
 "nbformat": 4,
 "nbformat_minor": 1
}
