{
 "cells": [
  {
   "cell_type": "markdown",
   "metadata": {},
   "source": [
    "# 0. Imports and costants"
   ]
  },
  {
   "cell_type": "code",
   "execution_count": 1,
   "metadata": {},
   "outputs": [],
   "source": [
    "############## AUTORELOAD MAGIC ###################\n",
    "%load_ext autoreload\n",
    "%autoreload 2\n",
    "###################################################\n",
    "\n",
    "############## FUNDAMENTAL MODULES ################\n",
    "import json\n",
    "from PIL import Image\n",
    "import os\n",
    "import sys\n",
    "import copy\n",
    "import matplotlib.pyplot as plt\n",
    "import numpy as np\n",
    "import pickle\n",
    "import re\n",
    "##################################################\n",
    "\n",
    "############## DATA SCIENCE & ML MODULES ##########\n",
    "from scipy.spatial.distance import cosine\n",
    "###################################################\n",
    "\n",
    "############## CONSTANTS ##########################\n",
    "user = \"patriziopalmisano\" #\"onurdenizguler\"\n",
    "dataset_directory = f\"/Users/{user}/Library/CloudStorage/GoogleDrive-check.worthiness@gmail.com/My Drive/data/CT23_1A_checkworthy_multimodal_english_v2\"\n",
    "###################################################"
   ]
  },
  {
   "cell_type": "markdown",
   "metadata": {},
   "source": [
    "# 1. Load and separate embeddings\n",
    "\n",
    "Load embeddings from train/dev/test sets and separate them into two lists each based on the respective label"
   ]
  },
  {
   "cell_type": "code",
   "execution_count": 2,
   "metadata": {},
   "outputs": [
    {
     "name": "stdout",
     "output_type": "stream",
     "text": [
      "Length of train\n",
      "820\n",
      "1536\n",
      "820\n",
      "1536\n",
      "Length of dev\n",
      "87\n",
      "184\n",
      "87\n",
      "184\n",
      "Length of test\n",
      "174\n",
      "374\n",
      "174\n",
      "374\n"
     ]
    }
   ],
   "source": [
    "keys = ['train', 'dev', 'test']\n",
    "embeddings_txt_yes = {}\n",
    "embeddings_txt_no = {}\n",
    "embeddings_img_yes = {}\n",
    "embeddings_img_no = {}\n",
    "\n",
    "for key in keys:\n",
    "    embeddings_file = os.path.join(dataset_directory, f\"embeddings_{key}_v2.pickle\")\n",
    "    with open(embeddings_file, 'rb') as f:\n",
    "        embeddings_dict = pickle.load(f)\n",
    "    \n",
    "    jsonl_file = os.path.join(dataset_directory, f\"CT23_1A_checkworthy_multimodal_english_{key}.jsonl\")\n",
    "    with open(jsonl_file, 'r') as f:\n",
    "        json_data = f.readlines()\n",
    "    \n",
    "    mask = []\n",
    "\n",
    "    for json_object in json_data:\n",
    "        tweet = json.loads(json_object)\n",
    "        class_label = tweet['class_label']\n",
    "\n",
    "        if class_label == 'Yes':\n",
    "            mask.append(True)\n",
    "        else:\n",
    "            mask.append(False)\n",
    "            \n",
    "    embeddings_txt_yes[key] = [embedding for embedding, mask_value in zip(embeddings_dict['txt'], mask) if mask_value]\n",
    "    embeddings_txt_no[key] = [embedding for embedding, mask_value in zip(embeddings_dict['txt'], mask) if not mask_value]\n",
    "    embeddings_img_yes[key] = [embedding for embedding, mask_value in zip(embeddings_dict['img'], mask) if mask_value]\n",
    "    embeddings_img_no[key] = [embedding for embedding, mask_value in zip(embeddings_dict['img'], mask) if not mask_value]\n",
    "\n",
    "    print(\"Length of \" + key)\n",
    "    print(len(embeddings_txt_yes[key]))\n",
    "    print(len(embeddings_txt_no[key]))\n",
    "    print(len(embeddings_img_yes[key]))\n",
    "    print(len(embeddings_img_no[key]))"
   ]
  },
  {
   "cell_type": "markdown",
   "metadata": {},
   "source": [
    "# 2. Compare embeddings"
   ]
  },
  {
   "cell_type": "code",
   "execution_count": 3,
   "metadata": {},
   "outputs": [
    {
     "name": "stdout",
     "output_type": "stream",
     "text": [
      "train: \n",
      "yes: 0.7470897004190015\n",
      "no: 0.7546117095528947\n",
      "dev: \n",
      "yes: 0.7413280693621471\n",
      "no: 0.7521881027876035\n",
      "test: \n",
      "yes: 0.7426705300893591\n",
      "no: 0.7587956940147648\n"
     ]
    }
   ],
   "source": [
    "similarity_yes = []\n",
    "similarity_no = []\n",
    "for key in keys:\n",
    "    # Calculate cosine similarity between images and texts of the 'Yes' class\n",
    "    similarity_yes = np.mean([cosine(embeddings_img_yes[key][i], embeddings_txt_yes[key][i]) for i in range(len(embeddings_img_yes[key]))])\n",
    "\n",
    "    # Calculate cosine similarity between images and texts of the 'No' class\n",
    "    similarity_no = np.mean([cosine(embeddings_img_no[key][i], embeddings_txt_no[key][i]) for i in range(len(embeddings_img_no[key]))])\n",
    "    \n",
    "    print(key + \": \")\n",
    "    print(\"yes: \" + str(similarity_yes))\n",
    "    print(\"no: \" + str(similarity_no))"
   ]
  },
  {
   "cell_type": "markdown",
   "metadata": {},
   "source": [
    "# 3. Conclusions\n",
    "No significant difference is present between the cosine similarity of the Yes and No classes of tweets"
   ]
  }
 ],
 "metadata": {
  "kernelspec": {
   "display_name": "Python 3 (ipykernel)",
   "language": "python",
   "name": "python3"
  },
  "language_info": {
   "codemirror_mode": {
    "name": "ipython",
    "version": 3
   },
   "file_extension": ".py",
   "mimetype": "text/x-python",
   "name": "python",
   "nbconvert_exporter": "python",
   "pygments_lexer": "ipython3",
   "version": "3.10.10"
  }
 },
 "nbformat": 4,
 "nbformat_minor": 2
}
