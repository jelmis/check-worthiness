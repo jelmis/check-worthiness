{
 "cells": [
  {
   "attachments": {},
   "cell_type": "markdown",
   "metadata": {},
   "source": [
    "# 0. Imports and Constants\n",
    "- Select user before proceeding"
   ]
  },
  {
   "cell_type": "code",
   "execution_count": 4,
   "metadata": {},
   "outputs": [
    {
     "name": "stdout",
     "output_type": "stream",
     "text": [
      "The autoreload extension is already loaded. To reload it, use:\n",
      "  %reload_ext autoreload\n"
     ]
    }
   ],
   "source": [
    "############## AUTORELOAD MAGIC ###################\n",
    "%load_ext autoreload\n",
    "%autoreload 2\n",
    "###################################################\n",
    "\n",
    "############## FUNDAMENTAL MODULES ################\n",
    "import os\n",
    "import sys\n",
    "import matplotlib.pyplot as plt\n",
    "import numpy as np\n",
    "import json\n",
    "from PIL import Image\n",
    "\n",
    " ##################################################\n",
    "\n",
    "############## TASK-SPECIFIC MODULES ##############\n",
    "sys.path.append(\"..\")\n",
    "sys.path.append(\"../..\")\n",
    "from ml.datasets import VanillaDataset\n",
    "from ml.models import VanillaNN\n",
    "from ml.trainer import Trainer\n",
    "from ml.eval import get_output_scores\n",
    "from data import utils\n",
    "from analysis.utils import extract_datapoints\n",
    "###################################################\n",
    "\n",
    "\n",
    "####################### CONSTANTS ########################\n",
    "SPLITS = [\"train\", \"dev\", \"test\", \"gold\"]\n",
    "TRAIN, DEV, TEST, TXT, IMG = \"train\", \"dev\", \"test\", \"txt\", \"img\"\n",
    "FE_METHODS = [\"txt_embeddings\", \"img_embeddings\", \"concat\", \"sum\", \"mean\", \"hadamard\", \"paraphrase\"]\n",
    "TRAIN, DEV, TEST, GOLD = \"train\", \"dev\", \"test\", \"gold\"\n",
    "#FE_METHODS += [\"concat_cos\", \"sum_cos\", \"mean_cos\", \"hadamard_cos\"]\n",
    "##########################################################\n",
    "\n",
    "############## DATA SCIENCE & ML MODULES #################\n",
    "from torch.utils.data import DataLoader\n",
    "import torch\n",
    "from sklearn.metrics import classification_report\n",
    "import pandas as pd\n",
    "##########################################################\n",
    "\n",
    "####################### SELECT ###########################\n",
    "users = [\"patriziopalmisano\", \"onurdenizguler\", \"jockl\"]\n",
    "user = users[1] # SELECT USER\n",
    "version = \"v2\" # SELECT DATASET VERSION\n",
    "dataset_version = version\n",
    "##########################################################\n",
    "\n",
    "if user in users[:2]:\n",
    "    data_dir = f\"/Users/{user}/Library/CloudStorage/GoogleDrive-check.worthiness@gmail.com/My Drive/data/CT23_1A_checkworthy_multimodal_english_{version}\"\n",
    "    cw_dir = f\"/Users/{user}/Library/CloudStorage/GoogleDrive-check.worthiness@gmail.com/My Drive\"\n",
    "\n",
    "else:\n",
    "    data_dir = f\"/home/jockl/Insync/check.worthiness@gmail.com/Google Drive/data/CT23_1A_checkworthy_multimodal_english_{dataset_version}\"\n",
    "    cw_dir = \"/home/jockl/Insync/check.worthiness@gmail.com/Google Drive\"\n",
    "\n",
    "features_dir = f\"{data_dir}/features\"\n",
    "labels_dir = f\"{data_dir}/labels\"\n",
    "models_dir = f\"{cw_dir}/models/vanillann_hyperparam_search\"\n",
    "evals_dir = f\"{models_dir}/gold_evals\""
   ]
  },
  {
   "attachments": {},
   "cell_type": "markdown",
   "metadata": {},
   "source": [
    "# 1. Load the Datasets"
   ]
  },
  {
   "cell_type": "code",
   "execution_count": 5,
   "metadata": {},
   "outputs": [],
   "source": [
    "split_to_labels = {split: \n",
    "                        np.load(f\"{labels_dir}/{split}_labels_{dataset_version}.pickle\", allow_pickle=True) if split != \"gold\" else \n",
    "                        np.load(f\"{labels_dir}/{split}_labels.pickle\", allow_pickle=True)\n",
    "                for split in SPLITS}\n",
    "\n",
    "method_to_split_to_data = {fe_method: {\n",
    "                                split: \n",
    "                                        np.load(f\"{features_dir}/{fe_method}/{fe_method}_{split}_{dataset_version}.pickle\", allow_pickle=True) if split != \"gold\" else \n",
    "                                        np.load(f\"{features_dir}/{fe_method}/{fe_method}_{split}.pickle\", allow_pickle=True)\n",
    "                                for split in SPLITS} \n",
    "                        for fe_method in FE_METHODS}\n",
    "\n",
    "method_to_split_to_dataset = {fe_method: {\n",
    "                                split:\n",
    "                                        VanillaDataset(method_to_split_to_data[fe_method][split], split_to_labels[split]) \n",
    "                                for split in SPLITS} \n",
    "                        for fe_method in FE_METHODS}"
   ]
  },
  {
   "cell_type": "code",
   "execution_count": 6,
   "metadata": {},
   "outputs": [],
   "source": [
    "# Select our best models\n",
    "\n",
    "# Set feature method, model name, batch size, hidden dims\n",
    "\n",
    "models =  {\n",
    "    # \"13-06-2023_01-03_txt_embeddings_32x16_lr_1e-05_batch-size_16_shuffled_f1_0.76\":\n",
    "    #  (\"txt_embeddings\", [32, 16]),\n",
    "      \"13-06-2023_05-33_mean_128x64x32x16_lr_0.001_batch-size_8_shuffled_f1_0.71\":\n",
    "      (\"mean\", [128, 64, 32, 16]),\n",
    "      \"13-06-2023_03-03_concat_128x64x32_lr_0.0001_batch-size_64_shuffled_f1_0.75\":\n",
    "      (\"concat\", [128, 64, 32]),\n",
    "    #  \"12-06-2023_23-42_txt_embeddings_128x64x32_lr_0.0001_batch-size_8_shuffled_f1_0.74\":\n",
    "    #  (\"txt_embeddings\", [128,64,32]),\n",
    "    #  \"12-06-2023_23-43_txt_embeddings_128x64x32_lr_0.0001_batch-size_16_shuffled_f1_0.73\":\n",
    "    #  (\"txt_embeddings\", [128,64,32]),\n",
    "    #  \"13-06-2023_00-21_txt_embeddings_128x64_lr_1e-06_batch-size_8_shuffled_f1_0.75\":\n",
    "    #  (\"txt_embeddings\", [128,64]),\n",
    "    #  \"13-06-2023_06-54_mean_64x32_lr_0.001_batch-size_8_shuffled_f1_0.69\":\n",
    "    #  (\"mean\", [64, 32]),\n",
    "    #  \"13-06-2023_05-44_mean_128x64x32_lr_1e-06_batch-size_8_shuffled_f1_0.67\":\n",
    "    #  (\"mean\", [128, 64, 32]),\n",
    "    #  \"12-06-2023_23-05_txt_embeddings_128x64x32x16_lr_1e-06_batch-size_8_shuffled_f1_0.74\":\n",
    "    #  (\"txt_embeddings\", [128,64,32, 16]),\n",
    "    #  \"12-06-2023_23-16_txt_embeddings_128x64x32x16_lr_0.0001_batch-size_128_shuffled_f1_0.73\":\n",
    "    #  (\"txt_embeddings\", [128,64,32, 16]),\n",
    "    #  \"13-06-2023_00-27_txt_embeddings_128x64_lr_1e-05_batch-size_32_shuffled_f1_0.74\":\n",
    "    #  (\"txt_embeddings\", [128,64]),\n",
    "    #  \"13-06-2023_05-32_mean_128x64x32x16_lr_0.0001_batch-size_16_shuffled_f1_0.69\":\n",
    "    #  (\"mean\", [128, 64, 32, 16]),\n",
    "    #  \"13-06-2023_05-52_mean_128x64x32_lr_0.001_batch-size_32_shuffled_f1_0.71\":\n",
    "    #  (\"mean\", [128, 64, 32]),\n",
    "      \"13-06-2023_06-14_mean_64x32x128_lr_0.0001_batch-size_32_shuffled_f1_0.70\":\n",
    "      (\"mean\", [64, 32, 128]),\n",
    "      \"13-06-2023_07-10_mean_32x16_lr_1e-05_batch-size_16_shuffled_f1_0.69\":\n",
    "      (\"mean\", [32,16]),\n",
    "      \"13-06-2023_02-21_concat_128x64x32x16_lr_1e-05_batch-size_16_shuffled_f1_0.72\":\n",
    "      (\"concat\", [128,64,32,16]),\n",
    "      \"13-06-2023_04-46_concat_32x16_lr_0.0001_batch-size_16_shuffled_f1_0.74\":\n",
    "      (\"concat\", [32,16]),\n",
    "      \"10-07-2023_22-56_paraphrase_32x16_lr_0.0005_batch-size_32_shuffled_f1_0.70\":\n",
    "      (\"paraphrase\", [32,16])\n",
    "}\n",
    "\n",
    "df_data = {\n",
    "    \"split\": [],\n",
    "    \"datapoint_id\": [],\n",
    "    \"actual_label\": [],\n",
    "}\n",
    "for split in SPLITS:\n",
    "    for model_name, model_properties in models.items():\n",
    "        feature_method = model_properties[0]\n",
    "        hidden_dims = model_properties[1]\n",
    "        shuffle = False\n",
    "        output_dim = [1]\n",
    "        batch_size = 16\n",
    "        dataset = method_to_split_to_dataset[feature_method][split]\n",
    "        split_size = len(dataset)\n",
    "        dataloader = DataLoader(dataset=dataset, batch_size=batch_size, shuffle=shuffle)\n",
    "\n",
    "\n",
    "        # Instantiate model\n",
    "        model_dir = f\"{models_dir}/{feature_method}/{model_name}.pt\"\n",
    "        input_dim = [len(dataset[0][0])]\n",
    "        init_params = input_dim + hidden_dims + output_dim\n",
    "        model = VanillaNN(init_params)\n",
    "        model.load_state_dict(torch.load(model_dir))\n",
    "        model.eval()\n",
    "\n",
    "        output_scores, actual_labels = get_output_scores(model,dataloader)\n",
    "        if not model_name in df_data.keys():\n",
    "            df_data[model_name] = output_scores\n",
    "        else:\n",
    "            df_data[model_name].extend(output_scores)\n",
    "    df_data[\"split\"].extend([split]*split_size)\n",
    "    df_data[\"datapoint_id\"].extend(list(range(0,split_size)))\n",
    "    df_data[\"actual_label\"].extend(actual_labels)"
   ]
  },
  {
   "cell_type": "code",
   "execution_count": 75,
   "metadata": {},
   "outputs": [],
   "source": [
    "\n",
    "#df[\"mean_model_score\"] = df[\"mean_model_score\"].apply(lambda x: round(x, 2))\n",
    "# for model_key in model_output_column_keys:\n",
    "#     df[model_key] = df[model_key].apply(lambda x: round(x, 2) )"
   ]
  },
  {
   "cell_type": "code",
   "execution_count": 7,
   "metadata": {},
   "outputs": [
    {
     "data": {
      "text/plain": [
       "(0.0, 170.0)"
      ]
     },
     "execution_count": 7,
     "metadata": {},
     "output_type": "execute_result"
    },
    {
     "data": {
      "image/png": "[encoded data removed]",
      "text/plain": [
       "<Figure size 640x480 with 1 Axes>"
      ]
     },
     "metadata": {},
     "output_type": "display_data"
    }
   ],
   "source": [
    "df = pd.DataFrame(df_data)\n",
    "model_output_column_keys = df.columns[3:]\n",
    "df[\"mean_model_score\"] = df.iloc[:, 3:].mean(axis=1)\n",
    "\n",
    "df_focus = df[(df[\"split\"] == \"gold\") | (df[\"split\"] == \"gold\" )]\n",
    "selected_column = 9\n",
    "scores_pos_class = df_focus[df_focus[\"actual_label\"]==1.0].iloc[:,selected_column].to_list()\n",
    "scores_neg_class = df_focus[df_focus[\"actual_label\"]==0.0].iloc[:,selected_column].to_list()\n",
    "model_name = str(df_focus.columns[selected_column])\n",
    "bins = [x/100 for x in range(0,105, 5)]\n",
    "# An \"interface\" to matplotlib.axes.Axes.hist() method\n",
    "n, bins, patches = plt.hist([scores_pos_class, scores_neg_class], bins=bins, label=['pos', 'neg'])\n",
    "                            #alpha=0.7, rwidth=0.85)\n",
    "plt.grid(axis='y')#, alpha=0.75)\n",
    "plt.xlabel('Score')\n",
    "plt.ylabel('Frequency')\n",
    "plt.title(model_name)\n",
    "plt.legend(loc='upper right')\n",
    "#plt.text(23, 45, r'$\\mu=15, b=3$')\n",
    "maxfreq = n.max()\n",
    "# Set a clean upper y-axis limit.\n",
    "plt.ylim(ymax=np.ceil(maxfreq / 10) * 10 if maxfreq % 10 else maxfreq + 10)"
   ]
  },
  {
   "cell_type": "code",
   "execution_count": 10,
   "metadata": {},
   "outputs": [
    {
     "name": "stdout",
     "output_type": "stream",
     "text": [
      "Sizes of train/test/dev/gold txt and img arrays respectively: \n",
      "2356 2356\n",
      "271 271\n",
      "548 548\n",
      "736 736\n"
     ]
    }
   ],
   "source": [
    "dataset_dir = f\"/Users/{user}/Library/CloudStorage/GoogleDrive-check.worthiness@gmail.com/My Drive/data/CT23_1A_checkworthy_multimodal_english\"\n",
    "raw_dataset, texts, imgs, tweet_ids = utils.load_data_splits_with_gold_dataset(dataset_dir,version)\n",
    "\n",
    "right_edge_negatives = df_focus[(df_focus[\"actual_label\"]==0.0) & (df_focus.iloc[:,4]>=0.80)][:25]\n",
    "left_edge_negatives = df_focus[(df_focus[\"actual_label\"]==0.0) & (df_focus.iloc[:,4]<=0.10)][:25]\n",
    "right_edge_positives = df_focus[(df_focus[\"actual_label\"]==1.0) & (df_focus.iloc[:,4]>=0.80)][:25]\n",
    "left_edge_positives = df_focus[(df_focus[\"actual_label\"]==1.0) & (df_focus.iloc[:,4]<=0.10)][:25]\n",
    "\n",
    "model_prediction_dict = {\n",
    "    1: 1,\n",
    "    2: 0,\n",
    "    3: 1,\n",
    "    4: 0,\n",
    "}\n",
    "\n"
   ]
  },
  {
   "cell_type": "code",
   "execution_count": 68,
   "metadata": {},
   "outputs": [],
   "source": [
    "labelling_df = pd.DataFrame(df_data)\n",
    "labelling_df_randomized = labelling_df.iloc[np.random.permutation(list(range(len(labelling_df)))),:]\n",
    "labelling_df_randomized.to_excel(\"labelling_datapoints_randomized.xlsx\")"
   ]
  },
  {
   "cell_type": "code",
   "execution_count": 6,
   "metadata": {},
   "outputs": [
    {
     "data": {
      "text/plain": [
       "{'tweet_id': '1196687191747039232',\n",
       " 'tweet_url': 'https://twitter.com/user/status/1196687191747039232',\n",
       " 'tweet_text': 'Got my first paying job(digital marketing) 💃🏽 please follow me on IG guys 🙏👏🏽. https://t.co/v6N1kJ24Sb',\n",
       " 'ocr_text': '',\n",
       " 'image_path': 'images_labeled/test/1196687191747039232.jpg',\n",
       " 'image_url': 'http://pbs.twimg.com/ext_tw_video_thumb/1196687124055109635/pu/img/oYYUUZUaKOAGVOWZ.jpg',\n",
       " 'class_label': 'No'}"
      ]
     },
     "execution_count": 6,
     "metadata": {},
     "output_type": "execute_result"
    }
   ],
   "source": [
    "raw_dataset[\"gold\"][0]"
   ]
  },
  {
   "cell_type": "markdown",
   "metadata": {},
   "source": [
    "# Find datapoints switching sides moving from concat embeddings to mean"
   ]
  },
  {
   "cell_type": "code",
   "execution_count": 12,
   "metadata": {},
   "outputs": [],
   "source": [
    "twilight_high = 0.7\n",
    "twilight_low= 0.3\n",
    "df_focus.loc[:, \"prediction_mean\"] = df_focus.iloc[:,3].apply(lambda x: 1 if x>=0.5 else 0)\n",
    "df_focus.loc[:, \"is_twilight_mean\"]  = df_focus.iloc[:,3].apply(lambda x: True if twilight_high>=x>=twilight_low else False)\n",
    "df_focus.loc[:, \"prediction_concat\"] = df_focus.iloc[:,4].apply(lambda x: 1 if x>=0.5 else 0)\n",
    "df_focus.loc[:, \"is_twilight_concat\"]  = df_focus.iloc[:,4].apply(lambda x: True if twilight_high>=x>=twilight_low else False)\n",
    "df_focus.loc[:, \"shift\"] = df_focus.iloc[:,3] - df_focus.iloc[:, 4]\n",
    "df_focus.loc[:, \"switched\"] = df_focus[\"prediction_mean\"] != df_focus[\"prediction_concat\"]\n",
    "df_focus.loc[:, \"saved_from_twilight\"] = df_focus[\"is_twilight_concat\"] & ~df_focus[\"is_twilight_mean\"] & (df_focus[\"prediction_mean\"] == df_focus[\"actual_label\"])\n",
    "df_focus.loc[:, \"made_worse\"] = ~df_focus[\"is_twilight_concat\"] & (df_focus[\"is_twilight_mean\"] | ((df_focus[\"prediction_concat\"] == df_focus[\"actual_label\"]) & (df_focus[\"prediction_mean\"] != df_focus[\"actual_label\"])))"
   ]
  },
  {
   "cell_type": "code",
   "execution_count": 19,
   "metadata": {},
   "outputs": [
    {
     "data": {
      "text/html": [
       "<div>\n",
       "<style scoped>\n",
       "    .dataframe tbody tr th:only-of-type {\n",
       "        vertical-align: middle;\n",
       "    }\n",
       "\n",
       "    .dataframe tbody tr th {\n",
       "        vertical-align: top;\n",
       "    }\n",
       "\n",
       "    .dataframe thead th {\n",
       "        text-align: right;\n",
       "    }\n",
       "</style>\n",
       "<table border=\"1\" class=\"dataframe\">\n",
       "  <thead>\n",
       "    <tr style=\"text-align: right;\">\n",
       "      <th></th>\n",
       "      <th>num_made_worse</th>\n",
       "      <th>num_saved_from_twilight</th>\n",
       "    </tr>\n",
       "  </thead>\n",
       "  <tbody>\n",
       "    <tr>\n",
       "      <th>0</th>\n",
       "      <td>70</td>\n",
       "      <td>16</td>\n",
       "    </tr>\n",
       "    <tr>\n",
       "      <th>1</th>\n",
       "      <td>13</td>\n",
       "      <td>39</td>\n",
       "    </tr>\n",
       "  </tbody>\n",
       "</table>\n",
       "</div>"
      ],
      "text/plain": [
       "   num_made_worse  num_saved_from_twilight\n",
       "0              70                       16\n",
       "1              13                       39"
      ]
     },
     "execution_count": 19,
     "metadata": {},
     "output_type": "execute_result"
    }
   ],
   "source": [
    "classes = {\"0\": {}, \"1\": {}}\n",
    "for _class, _dict in classes.items():\n",
    "    _dict[\"num_made_worse\"] = len(df_focus[(df_focus[\"made_worse\"] == True) & (df_focus[\"actual_label\"] == float(_class))])\n",
    "    _dict[\"num_saved_from_twilight\"] = len(df_focus[(df_focus[\"saved_from_twilight\"] == True) & (df_focus[\"actual_label\"] == float(_class))])\n",
    "pd.DataFrame(classes).transpose()"
   ]
  },
  {
   "cell_type": "code",
   "execution_count": 31,
   "metadata": {},
   "outputs": [],
   "source": [
    "made_worse_negatives = df_focus[(df_focus[\"actual_label\"]==0.0) & (df_focus[\"made_worse\"])]\n",
    "saved_from_twilight_negatives = df_focus[(df_focus[\"actual_label\"]==0.0) & (df_focus[\"saved_from_twilight\"])]\n",
    "made_worse_positives = df_focus[(df_focus[\"actual_label\"]==1.0) & (df_focus[\"made_worse\"])]\n",
    "saved_from_twilight_positives = df_focus[(df_focus[\"actual_label\"]==1.0) & (df_focus[\"saved_from_twilight\"])]\n",
    "\n",
    "df_dict = {\n",
    "    \"made_worse_negatives\": made_worse_negatives, \n",
    "    \"saved_from_twilight_negatives\": saved_from_twilight_negatives, \n",
    "    \"made_worse_positives\": made_worse_positives,\n",
    "    \"saved_from_twilight_positives\": saved_from_twilight_positives}"
   ]
  },
  {
   "cell_type": "code",
   "execution_count": 33,
   "metadata": {},
   "outputs": [],
   "source": [
    "result = extract_datapoints(df_dict, raw_dataset, texts, tweet_ids)"
   ]
  },
  {
   "cell_type": "code",
   "execution_count": 34,
   "metadata": {},
   "outputs": [],
   "source": [
    "result.to_excel(\"results.xlsx\")"
   ]
  }
 ],
 "metadata": {
  "kernelspec": {
   "display_name": "IN4249_virtual_env2_py3-10-9_kernel",
   "language": "python",
   "name": "in4249_virtual_env2_py3-10-9_kernel"
  },
  "language_info": {
   "codemirror_mode": {
    "name": "ipython",
    "version": 3
   },
   "file_extension": ".py",
   "mimetype": "text/x-python",
   "name": "python",
   "nbconvert_exporter": "python",
   "pygments_lexer": "ipython3",
   "version": "3.10.9"
  },
  "orig_nbformat": 4
 },
 "nbformat": 4,
 "nbformat_minor": 2
}
