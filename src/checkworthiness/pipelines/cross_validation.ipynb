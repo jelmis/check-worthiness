{
 "cells": [
  {
   "attachments": {},
   "cell_type": "markdown",
   "metadata": {},
   "source": [
    "# 0. Imports and Constants\n",
    "- Select user before proceeding"
   ]
  },
  {
   "cell_type": "code",
   "execution_count": 20,
   "metadata": {
    "ExecuteTime": {
     "end_time": "2023-06-26T14:15:31.092672827Z",
     "start_time": "2023-06-26T14:15:27.331362493Z"
    },
    "collapsed": true
   },
   "outputs": [
    {
     "name": "stdout",
     "output_type": "stream",
     "text": [
      "The autoreload extension is already loaded. To reload it, use:\n",
      "  %reload_ext autoreload\n"
     ]
    }
   ],
   "source": [
    "############## AUTORELOAD MAGIC ###################\n",
    "%load_ext autoreload\n",
    "%autoreload 2\n",
    "###################################################\n",
    "\n",
    "############## FUNDAMENTAL MODULES ################\n",
    "import os\n",
    "import sys\n",
    "import matplotlib.pyplot as plt\n",
    "import numpy as np\n",
    " ##################################################\n",
    "\n",
    "############## TASK-SPECIFIC MODULES ##############\n",
    "sys.path.append(os.path.dirname(os.path.dirname(os.path.abspath(\"__file__\"))))\n",
    "from ml.datasets import VanillaDataset\n",
    "from ml.models import VanillaNN\n",
    "from ml.trainer import Trainer\n",
    "from ml.eval import evaluate_model, write_eval_to_file, pretty_print_metrics, cross_validate_thresholds\n",
    "###################################################\n",
    "\n",
    "\n",
    "####################### CONSTANTS ########################\n",
    "SPLITS = [\"train\", \"dev\", \"test\", \"gold\"]\n",
    "TRAIN, DEV, TEST, TXT, IMG = \"train\", \"dev\", \"test\", \"txt\", \"img\"\n",
    "FE_METHODS = [\"txt_embeddings\", \"img_embeddings\", \"concat\", \"sum\", \"mean\", \"hadamard\", \"paraphrase\", \"paraphrase_with_ocr\"]\n",
    "GOLD = \"gold\"\n",
    "RANDOM_SEED = 42\n",
    "#FE_METHODS += [\"concat_cos\", \"sum_cos\", \"mean_cos\", \"hadamard_cos\"]\n",
    "##########################################################\n",
    "\n",
    "############## DATA SCIENCE & ML MODULES #################\n",
    "from torch.utils.data import Dataset, DataLoader,TensorDataset,random_split,SubsetRandomSampler, ConcatDataset\n",
    "import torch\n",
    "from sklearn.model_selection import KFold\n",
    "from sklearn.metrics import classification_report\n",
    "##########################################################\n",
    "\n",
    "####################### SELECT ###########################\n",
    "users = [\"patriziopalmisano\", \"onurdenizguler\", \"jockl\"]\n",
    "user = users[2] # SELECT USER\n",
    "version = \"v2\" # SELECT DATASET VERSION\n",
    "dataset_version = version\n",
    "##########################################################\n",
    "\n",
    "if user in users[:2]:\n",
    "    data_dir = f\"/Users/{user}/Library/CloudStorage/GoogleDrive-check.worthiness@gmail.com/My Drive/data/CT23_1A_checkworthy_multimodal_english_{version}\"\n",
    "    cw_dir = f\"/Users/{user}/Library/CloudStorage/GoogleDrive-check.worthiness@gmail.com/My Drive\"\n",
    "\n",
    "else:\n",
    "    data_dir = f\"/home/jockl/Insync/check.worthiness@gmail.com/Google Drive/data/CT23_1A_checkworthy_multimodal_english_{dataset_version}\"\n",
    "    cw_dir = \"/home/jockl/Insync/check.worthiness@gmail.com/Google Drive\"\n",
    "\n",
    "features_dir = f\"{data_dir}/features\"\n",
    "labels_dir = f\"{data_dir}/labels\"\n",
    "models_dir = f\"{cw_dir}/models/vanillann_hyperparam_search\"\n",
    "evals_dir = f\"{models_dir}/threshold_cross_validation\""
   ]
  },
  {
   "attachments": {},
   "cell_type": "markdown",
   "metadata": {},
   "source": [
    "# 1. Load the Datasets"
   ]
  },
  {
   "cell_type": "code",
   "execution_count": null,
   "metadata": {
    "ExecuteTime": {
     "end_time": "2023-06-26T14:15:31.365707366Z",
     "start_time": "2023-06-26T14:15:31.097030240Z"
    }
   },
   "outputs": [],
   "source": [
    "split_to_labels = {split: \n",
    "                        np.load(f\"{labels_dir}/{split}_labels_{dataset_version}.pickle\", allow_pickle=True) if split != \"gold\" else \n",
    "                        np.load(f\"{labels_dir}/{split}_labels.pickle\", allow_pickle=True)\n",
    "                for split in SPLITS}\n",
    "\n",
    "method_to_split_to_data = {fe_method: {\n",
    "                                split: \n",
    "                                        np.load(f\"{features_dir}/{fe_method}/{fe_method}_{split}_{dataset_version}.pickle\", allow_pickle=True) if split != \"gold\" else \n",
    "                                        np.load(f\"{features_dir}/{fe_method}/{fe_method}_{split}.pickle\", allow_pickle=True)\n",
    "                                for split in SPLITS} \n",
    "                        for fe_method in FE_METHODS}\n",
    "\n",
    "method_to_split_to_dataset = {fe_method: {\n",
    "                                split:\n",
    "                                        VanillaDataset(method_to_split_to_data[fe_method][split], split_to_labels[split]) \n",
    "                                for split in SPLITS} \n",
    "                        for fe_method in FE_METHODS}"
   ]
  },
  {
   "attachments": {},
   "cell_type": "markdown",
   "metadata": {},
   "source": [
    "# 2. Cross-Validation of Best Models\n",
    "\n",
    "In this section, we cross-validate those models that yielded the best validation accuracy within training. We cross-validate the best model for the following feature methods respectively:\n",
    "\n",
    "- Txt Embeddings\n",
    "- Concat Features\n",
    "- Mean Features\n",
    "- Paraphrase Tweet Features\n",
    "- Paraphrase Tweet + OCR\n",
    "\n",
    "Those best models come from the runs saved and TensorBoard-logged under\n",
    "\n",
    "- \"data/runs\".\n",
    "\n",
    "The aim of the cross-validation is to optimize our models' prediction thresholds. The default prediction threshold the models were trained on is 0.5. Given the class imbalance of our dataset, however, it is reasonable to check if other thresholds perform better. Hence, the following routine is performed for every considered model:\n",
    "\n",
    "- For all k cross-validation splits, the model is evaluated on different thresholds.\n",
    "- We keep the best performing threshold for each of the splits folds.\n",
    "- We mean over all the k best thresholds -> This is the final best threshold.\n",
    "\n",
    "Finally:\n",
    "\n",
    "- Every model (with its best threshold according to cross-val) is evaluated on the gold test set."
   ]
  },
  {
   "cell_type": "code",
   "execution_count": 37,
   "metadata": {
    "ExecuteTime": {
     "end_time": "2023-06-26T14:15:35.638993433Z",
     "start_time": "2023-06-26T14:15:35.578566501Z"
    }
   },
   "outputs": [],
   "source": [
    "# Used for every cross-validation\n",
    "k = 3\n",
    "thresholds = np.array(range(10, 60, 5)) / 100\n",
    "shuffle = True\n",
    "output_dim = [1]"
   ]
  },
  {
   "attachments": {},
   "cell_type": "markdown",
   "metadata": {},
   "source": [
    "## 2.1 Txt Embeddings"
   ]
  },
  {
   "cell_type": "code",
   "execution_count": 30,
   "metadata": {
    "ExecuteTime": {
     "end_time": "2023-06-26T14:15:37.310610533Z",
     "start_time": "2023-06-26T14:15:37.266862491Z"
    }
   },
   "outputs": [],
   "source": [
    "# Set feature method, best model name, batch size, hidden dims\n",
    "feature_method = \"txt_embeddings\"\n",
    "model_name = \"12-06-2023_23-58_txt_embeddings_64x32x128_lr_1e-06_batch-size_8_shuffled_f1_0.74\"\n",
    "batch_size = 8\n",
    "hidden_dims = [64, 32, 128]"
   ]
  },
  {
   "cell_type": "code",
   "execution_count": 31,
   "metadata": {
    "ExecuteTime": {
     "end_time": "2023-06-26T14:15:38.374948082Z",
     "start_time": "2023-06-26T14:15:38.329378021Z"
    }
   },
   "outputs": [],
   "source": [
    "# File to store eval data\n",
    "eval_file = f\"{evals_dir}/{feature_method}/{model_name}/{k}_fold_{model_name}.txt\""
   ]
  },
  {
   "cell_type": "code",
   "execution_count": 32,
   "metadata": {
    "ExecuteTime": {
     "end_time": "2023-06-26T14:15:38.895813875Z",
     "start_time": "2023-06-26T14:15:38.853668922Z"
    }
   },
   "outputs": [
    {
     "name": "stdout",
     "output_type": "stream",
     "text": [
      "Number of train examples: 2356\n",
      "Number of dev examples: 271\n",
      "Number of cross-val examples: 2627\n"
     ]
    }
   ],
   "source": [
    "# Create cross-validation dataset\n",
    "train_dataset = method_to_split_to_dataset[feature_method][TRAIN]\n",
    "dev_dataset = method_to_split_to_dataset[feature_method][DEV]\n",
    "cross_val_dataset = ConcatDataset([train_dataset, dev_dataset])\n",
    "splits = KFold(n_splits=k, shuffle=shuffle, random_state=RANDOM_SEED)\n",
    "\n",
    "# Inspect datasets\n",
    "print(f\"Number of train examples: {len(train_dataset)}\")\n",
    "print(f\"Number of dev examples: {len(dev_dataset)}\")\n",
    "print(f\"Number of cross-val examples: {len(cross_val_dataset)}\")"
   ]
  },
  {
   "cell_type": "code",
   "execution_count": 33,
   "metadata": {
    "ExecuteTime": {
     "end_time": "2023-06-26T14:15:40.059270528Z",
     "start_time": "2023-06-26T14:15:39.968568068Z"
    }
   },
   "outputs": [
    {
     "data": {
      "text/plain": [
       "VanillaNN(\n",
       "  (sequence): Sequential(\n",
       "    (0): Linear(in_features=768, out_features=64, bias=True)\n",
       "    (1): ReLU()\n",
       "    (2): Linear(in_features=64, out_features=32, bias=True)\n",
       "    (3): ReLU()\n",
       "    (4): Linear(in_features=32, out_features=128, bias=True)\n",
       "    (5): ReLU()\n",
       "    (6): Linear(in_features=128, out_features=1, bias=True)\n",
       "  )\n",
       ")"
      ]
     },
     "execution_count": 33,
     "metadata": {},
     "output_type": "execute_result"
    }
   ],
   "source": [
    "# Instantiate model\n",
    "model_dir = f\"{models_dir}/{feature_method}/{model_name}.pt\"\n",
    "input_dim = [len(cross_val_dataset[0][0])]\n",
    "init_params = input_dim + hidden_dims + output_dim\n",
    "model = VanillaNN(init_params)\n",
    "model.load_state_dict(torch.load(model_dir))\n",
    "model.eval()"
   ]
  },
  {
   "cell_type": "code",
   "execution_count": 34,
   "metadata": {
    "ExecuteTime": {
     "end_time": "2023-06-26T14:15:42.828417770Z",
     "start_time": "2023-06-26T14:15:40.554479732Z"
    }
   },
   "outputs": [
    {
     "name": "stdout",
     "output_type": "stream",
     "text": [
      "Best on fold 0: Threshold=0.35\n",
      "0.0: {'precision': 0.888235294117647, 'recall': 0.8176895306859205, 'f1-score': 0.8515037593984962, 'support': 554}\n",
      "1.0: {'precision': 0.7240437158469946, 'recall': 0.8229813664596274, 'f1-score': 0.7703488372093024, 'support': 322}\n",
      "accuracy: 0.819634703196347\n",
      "\n",
      "Best on fold 1: Threshold=0.35\n",
      "0.0: {'precision': 0.9090909090909091, 'recall': 0.8291032148900169, 'f1-score': 0.8672566371681416, 'support': 591}\n",
      "1.0: {'precision': 0.7002967359050445, 'recall': 0.8280701754385965, 'f1-score': 0.7588424437299035, 'support': 285}\n",
      "accuracy: 0.8287671232876712\n",
      "\n",
      "Best on fold 2: Threshold=0.3\n",
      "0.0: {'precision': 0.9423868312757202, 'recall': 0.7965217391304348, 'f1-score': 0.8633364750235626, 'support': 575}\n",
      "1.0: {'precision': 0.699228791773779, 'recall': 0.9066666666666666, 'f1-score': 0.7895500725689405, 'support': 300}\n",
      "accuracy: 0.8342857142857143\n",
      "\n",
      "Mean of best thresholds: 0.3333333333333333\n",
      "Mean of best f1-scores: 0.7729137845027155\n"
     ]
    }
   ],
   "source": [
    "# Collect best f1 score and corresponding threshold for every split\n",
    "report_string, mean_best_threshold = cross_validate_thresholds(model=model, cross_val_dataset=cross_val_dataset, splits=splits, thresholds=thresholds, batch_size=batch_size)\n",
    "print(report_string)"
   ]
  },
  {
   "cell_type": "code",
   "execution_count": 35,
   "metadata": {
    "ExecuteTime": {
     "end_time": "2023-06-26T14:15:42.923813275Z",
     "start_time": "2023-06-26T14:15:42.832033737Z"
    },
    "collapsed": false
   },
   "outputs": [
    {
     "name": "stdout",
     "output_type": "stream",
     "text": [
      "PERFORMANCE ON GOLD SET\n",
      "Threshold=0.3333333333333333\n",
      "0.0: {'precision': 0.81419624217119, 'recall': 0.8496732026143791, 'f1-score': 0.8315565031982942, 'support': 459}\n",
      "1.0: {'precision': 0.7315175097276264, 'recall': 0.6787003610108303, 'f1-score': 0.704119850187266, 'support': 277}\n",
      "accuracy: 0.7853260869565217\n",
      "\n"
     ]
    }
   ],
   "source": [
    "# Evaluate the best threshold on gold\n",
    "eval_dataset = method_to_split_to_dataset[feature_method][GOLD]\n",
    "eval_dataloader = DataLoader(dataset=eval_dataset, batch_size=batch_size, shuffle=shuffle)\n",
    "metrics_dict = evaluate_model(model=model, dataloader=eval_dataloader, confidence=mean_best_threshold)\n",
    "\n",
    "# Print and save results\n",
    "gold_result_string = f\"PERFORMANCE ON GOLD SET\\n{pretty_print_metrics(metrics_dict, mean_best_threshold)}\"\n",
    "report_string += f\"\\n\\n{gold_result_string}\"\n",
    "write_eval_to_file(file_path=eval_file, report_string=report_string)\n",
    "print(gold_result_string)"
   ]
  },
  {
   "attachments": {},
   "cell_type": "markdown",
   "metadata": {},
   "source": [
    "## 2.2 Concat Features"
   ]
  },
  {
   "cell_type": "code",
   "execution_count": 43,
   "metadata": {
    "ExecuteTime": {
     "end_time": "2023-06-26T14:15:43.018989819Z",
     "start_time": "2023-06-26T14:15:42.923455069Z"
    }
   },
   "outputs": [],
   "source": [
    "# Set feature method, model name, batch size, hidden dims\n",
    "feature_method = \"concat\"\n",
    "model_name = \"13-06-2023_02-15_concat_128x64x32x16_lr_1e-06_batch-size_16_shuffled_f1_0.72\"\n",
    "batch_size = 16\n",
    "hidden_dims = [128, 64, 32, 16]"
   ]
  },
  {
   "cell_type": "code",
   "execution_count": 44,
   "metadata": {
    "ExecuteTime": {
     "end_time": "2023-06-26T14:15:43.020612316Z",
     "start_time": "2023-06-26T14:15:42.971421097Z"
    }
   },
   "outputs": [],
   "source": [
    "# File to store eval data\n",
    "eval_file = f\"{evals_dir}/{feature_method}/{model_name}/{k}_fold_{model_name}.txt\""
   ]
  },
  {
   "cell_type": "code",
   "execution_count": 45,
   "metadata": {
    "ExecuteTime": {
     "end_time": "2023-06-26T14:15:43.107555136Z",
     "start_time": "2023-06-26T14:15:43.014320323Z"
    }
   },
   "outputs": [
    {
     "name": "stdout",
     "output_type": "stream",
     "text": [
      "Number of train examples: 2356\n",
      "Number of dev examples: 271\n",
      "Number of cross-val examples: 2627\n"
     ]
    }
   ],
   "source": [
    "# Create cross-validation dataset\n",
    "train_dataset = method_to_split_to_dataset[feature_method][TRAIN]\n",
    "dev_dataset = method_to_split_to_dataset[feature_method][DEV]\n",
    "cross_val_dataset = ConcatDataset([train_dataset, dev_dataset])\n",
    "splits = KFold(n_splits=k, shuffle=shuffle, random_state=RANDOM_SEED)\n",
    "\n",
    "# Inspect datasets\n",
    "print(f\"Number of train examples: {len(train_dataset)}\")\n",
    "print(f\"Number of dev examples: {len(dev_dataset)}\")\n",
    "print(f\"Number of cross-val examples: {len(cross_val_dataset)}\")"
   ]
  },
  {
   "cell_type": "code",
   "execution_count": 46,
   "metadata": {
    "ExecuteTime": {
     "end_time": "2023-06-26T14:15:43.109742288Z",
     "start_time": "2023-06-26T14:15:43.057550464Z"
    }
   },
   "outputs": [
    {
     "data": {
      "text/plain": [
       "VanillaNN(\n",
       "  (sequence): Sequential(\n",
       "    (0): Linear(in_features=1536, out_features=128, bias=True)\n",
       "    (1): ReLU()\n",
       "    (2): Linear(in_features=128, out_features=64, bias=True)\n",
       "    (3): ReLU()\n",
       "    (4): Linear(in_features=64, out_features=32, bias=True)\n",
       "    (5): ReLU()\n",
       "    (6): Linear(in_features=32, out_features=16, bias=True)\n",
       "    (7): ReLU()\n",
       "    (8): Linear(in_features=16, out_features=1, bias=True)\n",
       "  )\n",
       ")"
      ]
     },
     "execution_count": 46,
     "metadata": {},
     "output_type": "execute_result"
    }
   ],
   "source": [
    "# Instantiate model\n",
    "model_dir = f\"{models_dir}/{feature_method}/{model_name}.pt\"\n",
    "input_dim = [len(cross_val_dataset[0][0])]\n",
    "init_params = input_dim + hidden_dims + output_dim\n",
    "model = VanillaNN(init_params)\n",
    "model.load_state_dict(torch.load(model_dir))\n",
    "model.eval()"
   ]
  },
  {
   "cell_type": "code",
   "execution_count": 47,
   "metadata": {
    "ExecuteTime": {
     "end_time": "2023-06-26T14:15:45.051939800Z",
     "start_time": "2023-06-26T14:15:43.099130530Z"
    }
   },
   "outputs": [
    {
     "name": "stdout",
     "output_type": "stream",
     "text": [
      "Best on fold 0: Threshold=0.35\n",
      "0.0: {'precision': 0.9212598425196851, 'recall': 0.8447653429602888, 'f1-score': 0.8813559322033898, 'support': 554}\n",
      "1.0: {'precision': 0.7663043478260869, 'recall': 0.8757763975155279, 'f1-score': 0.817391304347826, 'support': 322}\n",
      "accuracy: 0.8561643835616438\n",
      "\n",
      "Best on fold 1: Threshold=0.45\n",
      "0.0: {'precision': 0.917098445595855, 'recall': 0.8984771573604061, 'f1-score': 0.9076923076923078, 'support': 591}\n",
      "1.0: {'precision': 0.797979797979798, 'recall': 0.8315789473684211, 'f1-score': 0.8144329896907218, 'support': 285}\n",
      "accuracy: 0.8767123287671232\n",
      "\n",
      "Best on fold 2: Threshold=0.4\n",
      "0.0: {'precision': 0.9287054409005628, 'recall': 0.8608695652173913, 'f1-score': 0.8935018050541517, 'support': 575}\n",
      "1.0: {'precision': 0.7660818713450293, 'recall': 0.8733333333333333, 'f1-score': 0.8161993769470405, 'support': 300}\n",
      "accuracy: 0.8651428571428571\n",
      "\n",
      "Mean of best thresholds: 0.4000000000000001\n",
      "Mean of best f1-scores: 0.8160078903285294\n"
     ]
    }
   ],
   "source": [
    "# Collect best f1 score and corresponding threshold for every split\n",
    "report_string, mean_best_threshold = cross_validate_thresholds(model=model, cross_val_dataset=cross_val_dataset, splits=splits, thresholds=thresholds, batch_size=batch_size)\n",
    "print(report_string)"
   ]
  },
  {
   "cell_type": "code",
   "execution_count": 48,
   "metadata": {
    "ExecuteTime": {
     "end_time": "2023-06-26T14:15:45.126172896Z",
     "start_time": "2023-06-26T14:15:45.009071665Z"
    },
    "collapsed": false
   },
   "outputs": [
    {
     "name": "stdout",
     "output_type": "stream",
     "text": [
      "PERFORMANCE ON GOLD SET\n",
      "Threshold=0.4000000000000001\n",
      "0.0: {'precision': 0.8048780487804879, 'recall': 0.8627450980392157, 'f1-score': 0.832807570977918, 'support': 459}\n",
      "1.0: {'precision': 0.7418032786885246, 'recall': 0.6534296028880866, 'f1-score': 0.6948176583493281, 'support': 277}\n",
      "accuracy: 0.7839673913043478\n",
      "\n"
     ]
    }
   ],
   "source": [
    "# Evaluate the best threshold on gold\n",
    "eval_dataset = method_to_split_to_dataset[feature_method][GOLD]\n",
    "eval_dataloader = DataLoader(dataset=eval_dataset, batch_size=batch_size, shuffle=shuffle)\n",
    "metrics_dict = evaluate_model(model=model, dataloader=eval_dataloader, confidence=mean_best_threshold)\n",
    "\n",
    "# Print and save results\n",
    "gold_result_string = f\"PERFORMANCE ON GOLD SET\\n{pretty_print_metrics(metrics_dict, mean_best_threshold)}\"\n",
    "report_string += f\"\\n\\n{gold_result_string}\"\n",
    "write_eval_to_file(file_path=eval_file, report_string=report_string)\n",
    "print(gold_result_string)"
   ]
  },
  {
   "attachments": {},
   "cell_type": "markdown",
   "metadata": {},
   "source": [
    "## 2.3 Mean Features"
   ]
  },
  {
   "cell_type": "code",
   "execution_count": 49,
   "metadata": {
    "ExecuteTime": {
     "end_time": "2023-06-26T14:15:45.138014107Z",
     "start_time": "2023-06-26T14:15:45.081926532Z"
    }
   },
   "outputs": [],
   "source": [
    "# Set feature method, model name, batch size, hidden dims\n",
    "feature_method = \"mean\"\n",
    "model_name = \"13-06-2023_05-44_mean_128x64x32_lr_1e-06_batch-size_8_shuffled_f1_0.67\"\n",
    "batch_size = 8\n",
    "hidden_dims = [128, 64, 32]"
   ]
  },
  {
   "cell_type": "code",
   "execution_count": 50,
   "metadata": {
    "ExecuteTime": {
     "end_time": "2023-06-26T14:15:45.162546153Z",
     "start_time": "2023-06-26T14:15:45.126529114Z"
    }
   },
   "outputs": [],
   "source": [
    "# File to store eval data\n",
    "eval_file = f\"{evals_dir}/{feature_method}/{model_name}/{k}_fold_{model_name}.txt\""
   ]
  },
  {
   "cell_type": "code",
   "execution_count": 51,
   "metadata": {
    "ExecuteTime": {
     "end_time": "2023-06-26T14:15:45.205129185Z",
     "start_time": "2023-06-26T14:15:45.151672728Z"
    }
   },
   "outputs": [
    {
     "name": "stdout",
     "output_type": "stream",
     "text": [
      "Number of train examples: 2356\n",
      "Number of dev examples: 271\n",
      "Number of cross-val examples: 2627\n"
     ]
    }
   ],
   "source": [
    "# Create cross-validation dataset\n",
    "train_dataset = method_to_split_to_dataset[feature_method][TRAIN]\n",
    "dev_dataset = method_to_split_to_dataset[feature_method][DEV]\n",
    "#gold_dataset = method_to_split_to_dataset[feature_method][DEV]\n",
    "cross_val_dataset = ConcatDataset([train_dataset, dev_dataset])\n",
    "splits = KFold(n_splits=k, shuffle=shuffle, random_state=RANDOM_SEED)\n",
    "\n",
    "# Inspect datasets\n",
    "print(f\"Number of train examples: {len(train_dataset)}\")\n",
    "print(f\"Number of dev examples: {len(dev_dataset)}\")\n",
    "print(f\"Number of cross-val examples: {len(cross_val_dataset)}\")"
   ]
  },
  {
   "cell_type": "code",
   "execution_count": 52,
   "metadata": {
    "ExecuteTime": {
     "end_time": "2023-06-26T14:15:45.271603777Z",
     "start_time": "2023-06-26T14:15:45.240788732Z"
    }
   },
   "outputs": [
    {
     "data": {
      "text/plain": [
       "VanillaNN(\n",
       "  (sequence): Sequential(\n",
       "    (0): Linear(in_features=768, out_features=128, bias=True)\n",
       "    (1): ReLU()\n",
       "    (2): Linear(in_features=128, out_features=64, bias=True)\n",
       "    (3): ReLU()\n",
       "    (4): Linear(in_features=64, out_features=32, bias=True)\n",
       "    (5): ReLU()\n",
       "    (6): Linear(in_features=32, out_features=1, bias=True)\n",
       "  )\n",
       ")"
      ]
     },
     "execution_count": 52,
     "metadata": {},
     "output_type": "execute_result"
    }
   ],
   "source": [
    "# Instantiate model\n",
    "model_dir = f\"{models_dir}/{feature_method}/{model_name}.pt\"\n",
    "input_dim = [len(cross_val_dataset[0][0])]\n",
    "init_params = input_dim + hidden_dims + output_dim\n",
    "model = VanillaNN(init_params)\n",
    "model.load_state_dict(torch.load(model_dir))\n",
    "model.eval()"
   ]
  },
  {
   "cell_type": "code",
   "execution_count": 53,
   "metadata": {
    "ExecuteTime": {
     "end_time": "2023-06-26T14:15:49.076816160Z",
     "start_time": "2023-06-26T14:15:45.246717877Z"
    }
   },
   "outputs": [
    {
     "name": "stdout",
     "output_type": "stream",
     "text": [
      "Best on fold 0: Threshold=0.3\n",
      "0.0: {'precision': 0.9102844638949672, 'recall': 0.7509025270758123, 'f1-score': 0.8229475766567755, 'support': 554}\n",
      "1.0: {'precision': 0.6706443914081146, 'recall': 0.8726708074534162, 'f1-score': 0.7584345479082322, 'support': 322}\n",
      "accuracy: 0.795662100456621\n",
      "\n",
      "Best on fold 1: Threshold=0.4\n",
      "0.0: {'precision': 0.8981818181818182, 'recall': 0.8358714043993232, 'f1-score': 0.8659070990359333, 'support': 591}\n",
      "1.0: {'precision': 0.7024539877300614, 'recall': 0.8035087719298246, 'f1-score': 0.7495908346972178, 'support': 285}\n",
      "accuracy: 0.8253424657534246\n",
      "\n",
      "Best on fold 2: Threshold=0.3\n",
      "0.0: {'precision': 0.9368421052631579, 'recall': 0.7739130434782608, 'f1-score': 0.8476190476190476, 'support': 575}\n",
      "1.0: {'precision': 0.675, 'recall': 0.9, 'f1-score': 0.7714285714285714, 'support': 300}\n",
      "accuracy: 0.8171428571428572\n",
      "\n",
      "Mean of best thresholds: 0.3333333333333333\n",
      "Mean of best f1-scores: 0.7598179846780071\n"
     ]
    }
   ],
   "source": [
    "# Collect best f1 score and corresponding threshold for every split\n",
    "report_string, mean_best_threshold = cross_validate_thresholds(model=model, cross_val_dataset=cross_val_dataset, splits=splits, thresholds=thresholds, batch_size=batch_size)\n",
    "print(report_string)"
   ]
  },
  {
   "cell_type": "code",
   "execution_count": 54,
   "metadata": {
    "ExecuteTime": {
     "end_time": "2023-06-26T14:15:49.160352891Z",
     "start_time": "2023-06-26T14:15:49.060869212Z"
    },
    "collapsed": false
   },
   "outputs": [
    {
     "name": "stdout",
     "output_type": "stream",
     "text": [
      "PERFORMANCE ON GOLD SET\n",
      "Threshold=0.3333333333333333\n",
      "0.0: {'precision': 0.8347826086956521, 'recall': 0.8366013071895425, 'f1-score': 0.8356909684439608, 'support': 459}\n",
      "1.0: {'precision': 0.7282608695652174, 'recall': 0.7256317689530686, 'f1-score': 0.7269439421338155, 'support': 277}\n",
      "accuracy: 0.7948369565217391\n",
      "\n"
     ]
    }
   ],
   "source": [
    "# Evaluate the best threshold on gold\n",
    "eval_dataset = method_to_split_to_dataset[feature_method][GOLD]\n",
    "eval_dataloader = DataLoader(dataset=eval_dataset, batch_size=batch_size, shuffle=shuffle)\n",
    "metrics_dict = evaluate_model(model=model, dataloader=eval_dataloader, confidence=mean_best_threshold)\n",
    "\n",
    "# Print and save results\n",
    "gold_result_string = f\"PERFORMANCE ON GOLD SET\\n{pretty_print_metrics(metrics_dict, mean_best_threshold)}\"\n",
    "report_string += f\"\\n\\n{gold_result_string}\"\n",
    "write_eval_to_file(file_path=eval_file, report_string=report_string)\n",
    "print(gold_result_string)"
   ]
  },
  {
   "attachments": {},
   "cell_type": "markdown",
   "metadata": {},
   "source": [
    "## 2.4 Paraphrase Model Tweet Features"
   ]
  },
  {
   "cell_type": "code",
   "execution_count": 55,
   "metadata": {},
   "outputs": [],
   "source": [
    "# Set feature method, model name, batch size, hidden dims\n",
    "feature_method = \"paraphrase\"\n",
    "model_name = \"10-07-2023_22-48_paraphrase_32x16_lr_1e-06_batch-size_16_shuffled_f1_0.60\"\n",
    "batch_size = 16\n",
    "hidden_dims = [32, 16]"
   ]
  },
  {
   "cell_type": "code",
   "execution_count": 56,
   "metadata": {},
   "outputs": [],
   "source": [
    "# File to store eval data\n",
    "eval_file = f\"{evals_dir}/{feature_method}/{model_name}/{k}_fold_{model_name}.txt\""
   ]
  },
  {
   "cell_type": "code",
   "execution_count": 57,
   "metadata": {},
   "outputs": [
    {
     "name": "stdout",
     "output_type": "stream",
     "text": [
      "Number of train examples: 2356\n",
      "Number of dev examples: 271\n",
      "Number of cross-val examples: 2627\n"
     ]
    }
   ],
   "source": [
    "# Create cross-validation dataset\n",
    "train_dataset = method_to_split_to_dataset[feature_method][TRAIN]\n",
    "dev_dataset = method_to_split_to_dataset[feature_method][DEV]\n",
    "cross_val_dataset = ConcatDataset([train_dataset, dev_dataset])\n",
    "splits = KFold(n_splits=k, shuffle=shuffle, random_state=RANDOM_SEED)\n",
    "\n",
    "# Inspect datasets\n",
    "print(f\"Number of train examples: {len(train_dataset)}\")\n",
    "print(f\"Number of dev examples: {len(dev_dataset)}\")\n",
    "print(f\"Number of cross-val examples: {len(cross_val_dataset)}\")"
   ]
  },
  {
   "cell_type": "code",
   "execution_count": 58,
   "metadata": {},
   "outputs": [
    {
     "data": {
      "text/plain": [
       "VanillaNN(\n",
       "  (sequence): Sequential(\n",
       "    (0): Linear(in_features=384, out_features=32, bias=True)\n",
       "    (1): ReLU()\n",
       "    (2): Linear(in_features=32, out_features=16, bias=True)\n",
       "    (3): ReLU()\n",
       "    (4): Linear(in_features=16, out_features=1, bias=True)\n",
       "  )\n",
       ")"
      ]
     },
     "execution_count": 58,
     "metadata": {},
     "output_type": "execute_result"
    }
   ],
   "source": [
    "# Instantiate model\n",
    "model_dir = f\"{models_dir}/{feature_method}/{model_name}.pt\"\n",
    "input_dim = [len(cross_val_dataset[0][0])]\n",
    "init_params = input_dim + hidden_dims + output_dim\n",
    "model = VanillaNN(init_params)\n",
    "model.load_state_dict(torch.load(model_dir))\n",
    "model.eval()"
   ]
  },
  {
   "cell_type": "code",
   "execution_count": 59,
   "metadata": {},
   "outputs": [
    {
     "name": "stderr",
     "output_type": "stream",
     "text": [
      "/home/jockl/venvs/cw1_new/lib/python3.10/site-packages/sklearn/metrics/_classification.py:1245: UndefinedMetricWarning: Precision and F-score are ill-defined and being set to 0.0 in labels with no predicted samples. Use `zero_division` parameter to control this behavior.\n",
      "  _warn_prf(average, modifier, msg_start, len(result))\n",
      "/home/jockl/venvs/cw1_new/lib/python3.10/site-packages/sklearn/metrics/_classification.py:1245: UndefinedMetricWarning: Precision and F-score are ill-defined and being set to 0.0 in labels with no predicted samples. Use `zero_division` parameter to control this behavior.\n",
      "  _warn_prf(average, modifier, msg_start, len(result))\n",
      "/home/jockl/venvs/cw1_new/lib/python3.10/site-packages/sklearn/metrics/_classification.py:1245: UndefinedMetricWarning: Precision and F-score are ill-defined and being set to 0.0 in labels with no predicted samples. Use `zero_division` parameter to control this behavior.\n",
      "  _warn_prf(average, modifier, msg_start, len(result))\n",
      "/home/jockl/venvs/cw1_new/lib/python3.10/site-packages/sklearn/metrics/_classification.py:1245: UndefinedMetricWarning: Precision and F-score are ill-defined and being set to 0.0 in labels with no predicted samples. Use `zero_division` parameter to control this behavior.\n",
      "  _warn_prf(average, modifier, msg_start, len(result))\n",
      "/home/jockl/venvs/cw1_new/lib/python3.10/site-packages/sklearn/metrics/_classification.py:1245: UndefinedMetricWarning: Precision and F-score are ill-defined and being set to 0.0 in labels with no predicted samples. Use `zero_division` parameter to control this behavior.\n",
      "  _warn_prf(average, modifier, msg_start, len(result))\n",
      "/home/jockl/venvs/cw1_new/lib/python3.10/site-packages/sklearn/metrics/_classification.py:1245: UndefinedMetricWarning: Precision and F-score are ill-defined and being set to 0.0 in labels with no predicted samples. Use `zero_division` parameter to control this behavior.\n",
      "  _warn_prf(average, modifier, msg_start, len(result))\n",
      "/home/jockl/venvs/cw1_new/lib/python3.10/site-packages/sklearn/metrics/_classification.py:1245: UndefinedMetricWarning: Precision and F-score are ill-defined and being set to 0.0 in labels with no predicted samples. Use `zero_division` parameter to control this behavior.\n",
      "  _warn_prf(average, modifier, msg_start, len(result))\n",
      "/home/jockl/venvs/cw1_new/lib/python3.10/site-packages/sklearn/metrics/_classification.py:1245: UndefinedMetricWarning: Precision and F-score are ill-defined and being set to 0.0 in labels with no predicted samples. Use `zero_division` parameter to control this behavior.\n",
      "  _warn_prf(average, modifier, msg_start, len(result))\n",
      "/home/jockl/venvs/cw1_new/lib/python3.10/site-packages/sklearn/metrics/_classification.py:1245: UndefinedMetricWarning: Precision and F-score are ill-defined and being set to 0.0 in labels with no predicted samples. Use `zero_division` parameter to control this behavior.\n",
      "  _warn_prf(average, modifier, msg_start, len(result))\n",
      "/home/jockl/venvs/cw1_new/lib/python3.10/site-packages/sklearn/metrics/_classification.py:1245: UndefinedMetricWarning: Precision and F-score are ill-defined and being set to 0.0 in labels with no predicted samples. Use `zero_division` parameter to control this behavior.\n",
      "  _warn_prf(average, modifier, msg_start, len(result))\n",
      "/home/jockl/venvs/cw1_new/lib/python3.10/site-packages/sklearn/metrics/_classification.py:1245: UndefinedMetricWarning: Precision and F-score are ill-defined and being set to 0.0 in labels with no predicted samples. Use `zero_division` parameter to control this behavior.\n",
      "  _warn_prf(average, modifier, msg_start, len(result))\n",
      "/home/jockl/venvs/cw1_new/lib/python3.10/site-packages/sklearn/metrics/_classification.py:1245: UndefinedMetricWarning: Precision and F-score are ill-defined and being set to 0.0 in labels with no predicted samples. Use `zero_division` parameter to control this behavior.\n",
      "  _warn_prf(average, modifier, msg_start, len(result))\n",
      "/home/jockl/venvs/cw1_new/lib/python3.10/site-packages/sklearn/metrics/_classification.py:1245: UndefinedMetricWarning: Precision and F-score are ill-defined and being set to 0.0 in labels with no predicted samples. Use `zero_division` parameter to control this behavior.\n",
      "  _warn_prf(average, modifier, msg_start, len(result))\n",
      "/home/jockl/venvs/cw1_new/lib/python3.10/site-packages/sklearn/metrics/_classification.py:1245: UndefinedMetricWarning: Precision and F-score are ill-defined and being set to 0.0 in labels with no predicted samples. Use `zero_division` parameter to control this behavior.\n",
      "  _warn_prf(average, modifier, msg_start, len(result))\n",
      "/home/jockl/venvs/cw1_new/lib/python3.10/site-packages/sklearn/metrics/_classification.py:1245: UndefinedMetricWarning: Precision and F-score are ill-defined and being set to 0.0 in labels with no predicted samples. Use `zero_division` parameter to control this behavior.\n",
      "  _warn_prf(average, modifier, msg_start, len(result))\n"
     ]
    },
    {
     "name": "stdout",
     "output_type": "stream",
     "text": [
      "Best on fold 0: Threshold=0.35\n",
      "0.0: {'precision': 0.8059149722735675, 'recall': 0.7870036101083032, 'f1-score': 0.7963470319634702, 'support': 554}\n",
      "1.0: {'precision': 0.6477611940298508, 'recall': 0.6739130434782609, 'f1-score': 0.6605783866057839, 'support': 322}\n",
      "accuracy: 0.7454337899543378\n",
      "\n",
      "Best on fold 1: Threshold=0.4\n",
      "0.0: {'precision': 0.8456375838926175, 'recall': 0.8527918781725888, 'f1-score': 0.8491996630160068, 'support': 591}\n",
      "1.0: {'precision': 0.6892857142857143, 'recall': 0.6771929824561403, 'f1-score': 0.6831858407079646, 'support': 285}\n",
      "accuracy: 0.795662100456621\n",
      "\n",
      "Best on fold 2: Threshold=0.35\n",
      "0.0: {'precision': 0.8419117647058824, 'recall': 0.7965217391304348, 'f1-score': 0.8185880250223414, 'support': 575}\n",
      "1.0: {'precision': 0.6465256797583081, 'recall': 0.7133333333333334, 'f1-score': 0.6782884310618067, 'support': 300}\n",
      "accuracy: 0.768\n",
      "\n",
      "Mean of best thresholds: 0.3666666666666667\n",
      "Mean of best f1-scores: 0.6740175527918518\n"
     ]
    }
   ],
   "source": [
    "# Collect best f1 score and corresponding threshold for every split\n",
    "report_string, mean_best_threshold = cross_validate_thresholds(model=model, cross_val_dataset=cross_val_dataset, splits=splits, thresholds=thresholds, batch_size=batch_size)\n",
    "print(report_string)"
   ]
  },
  {
   "cell_type": "code",
   "execution_count": 60,
   "metadata": {},
   "outputs": [
    {
     "name": "stdout",
     "output_type": "stream",
     "text": [
      "PERFORMANCE ON GOLD SET\n",
      "Threshold=0.3666666666666667\n",
      "0.0: {'precision': 0.7340425531914894, 'recall': 0.9019607843137255, 'f1-score': 0.8093841642228738, 'support': 459}\n",
      "1.0: {'precision': 0.7383720930232558, 'recall': 0.4584837545126354, 'f1-score': 0.5657015590200446, 'support': 277}\n",
      "accuracy: 0.7350543478260869\n",
      "\n"
     ]
    }
   ],
   "source": [
    "# Evaluate the best threshold on gold\n",
    "eval_dataset = method_to_split_to_dataset[feature_method][GOLD]\n",
    "eval_dataloader = DataLoader(dataset=eval_dataset, batch_size=batch_size, shuffle=shuffle)\n",
    "metrics_dict = evaluate_model(model=model, dataloader=eval_dataloader, confidence=mean_best_threshold)\n",
    "\n",
    "# Print and save results\n",
    "gold_result_string = f\"PERFORMANCE ON GOLD SET\\n{pretty_print_metrics(metrics_dict, mean_best_threshold)}\"\n",
    "report_string += f\"\\n\\n{gold_result_string}\"\n",
    "write_eval_to_file(file_path=eval_file, report_string=report_string)\n",
    "print(gold_result_string)"
   ]
  },
  {
   "attachments": {},
   "cell_type": "markdown",
   "metadata": {},
   "source": [
    "## 2.4 Paraphrase Model Tweet + OCR Features"
   ]
  },
  {
   "cell_type": "code",
   "execution_count": 62,
   "metadata": {},
   "outputs": [],
   "source": [
    "# Set feature method, model name, batch size, hidden dims\n",
    "feature_method = \"paraphrase_with_ocr\"\n",
    "model_name = \"11-07-2023_00-12_paraphrase_with_ocr_32x16_lr_1e-06_batch-size_16_shuffled_f1_0.63\"\n",
    "batch_size = 16\n",
    "hidden_dims = [32, 16]"
   ]
  },
  {
   "cell_type": "code",
   "execution_count": 63,
   "metadata": {},
   "outputs": [],
   "source": [
    "# File to store eval data\n",
    "eval_file = f\"{evals_dir}/{feature_method}/{model_name}/{k}_fold_{model_name}.txt\""
   ]
  },
  {
   "cell_type": "code",
   "execution_count": 64,
   "metadata": {},
   "outputs": [
    {
     "name": "stdout",
     "output_type": "stream",
     "text": [
      "Number of train examples: 2356\n",
      "Number of dev examples: 271\n",
      "Number of cross-val examples: 2627\n"
     ]
    }
   ],
   "source": [
    "# Create cross-validation dataset\n",
    "train_dataset = method_to_split_to_dataset[feature_method][TRAIN]\n",
    "dev_dataset = method_to_split_to_dataset[feature_method][DEV]\n",
    "cross_val_dataset = ConcatDataset([train_dataset, dev_dataset])\n",
    "splits = KFold(n_splits=k, shuffle=shuffle, random_state=RANDOM_SEED)\n",
    "\n",
    "# Inspect datasets\n",
    "print(f\"Number of train examples: {len(train_dataset)}\")\n",
    "print(f\"Number of dev examples: {len(dev_dataset)}\")\n",
    "print(f\"Number of cross-val examples: {len(cross_val_dataset)}\")"
   ]
  },
  {
   "cell_type": "code",
   "execution_count": 65,
   "metadata": {},
   "outputs": [
    {
     "data": {
      "text/plain": [
       "VanillaNN(\n",
       "  (sequence): Sequential(\n",
       "    (0): Linear(in_features=384, out_features=32, bias=True)\n",
       "    (1): ReLU()\n",
       "    (2): Linear(in_features=32, out_features=16, bias=True)\n",
       "    (3): ReLU()\n",
       "    (4): Linear(in_features=16, out_features=1, bias=True)\n",
       "  )\n",
       ")"
      ]
     },
     "execution_count": 65,
     "metadata": {},
     "output_type": "execute_result"
    }
   ],
   "source": [
    "# Instantiate model\n",
    "model_dir = f\"{models_dir}/{feature_method}/{model_name}.pt\"\n",
    "input_dim = [len(cross_val_dataset[0][0])]\n",
    "init_params = input_dim + hidden_dims + output_dim\n",
    "model = VanillaNN(init_params)\n",
    "model.load_state_dict(torch.load(model_dir))\n",
    "model.eval()"
   ]
  },
  {
   "cell_type": "code",
   "execution_count": 66,
   "metadata": {},
   "outputs": [
    {
     "name": "stdout",
     "output_type": "stream",
     "text": [
      "Best on fold 0: Threshold=0.3\n",
      "0.0: {'precision': 0.8343949044585988, 'recall': 0.7093862815884476, 'f1-score': 0.766829268292683, 'support': 554}\n",
      "1.0: {'precision': 0.6024691358024692, 'recall': 0.7577639751552795, 'f1-score': 0.671251719394773, 'support': 322}\n",
      "accuracy: 0.7271689497716894\n",
      "\n",
      "Best on fold 1: Threshold=0.35\n",
      "0.0: {'precision': 0.8655616942909761, 'recall': 0.7952622673434856, 'f1-score': 0.8289241622574955, 'support': 591}\n",
      "1.0: {'precision': 0.6366366366366366, 'recall': 0.743859649122807, 'f1-score': 0.6860841423948221, 'support': 285}\n",
      "accuracy: 0.7785388127853882\n",
      "\n",
      "Best on fold 2: Threshold=0.3\n",
      "0.0: {'precision': 0.8763557483731019, 'recall': 0.7026086956521739, 'f1-score': 0.7799227799227799, 'support': 575}\n",
      "1.0: {'precision': 0.5869565217391305, 'recall': 0.81, 'f1-score': 0.680672268907563, 'support': 300}\n",
      "accuracy: 0.7394285714285714\n",
      "\n",
      "Mean of best thresholds: 0.31666666666666665\n",
      "Mean of best f1-scores: 0.6793360435657195\n"
     ]
    }
   ],
   "source": [
    "# Collect best f1 score and corresponding threshold for every split\n",
    "report_string, mean_best_threshold = cross_validate_thresholds(model=model, cross_val_dataset=cross_val_dataset, splits=splits, thresholds=thresholds, batch_size=batch_size)\n",
    "print(report_string)"
   ]
  },
  {
   "cell_type": "code",
   "execution_count": 67,
   "metadata": {},
   "outputs": [
    {
     "name": "stdout",
     "output_type": "stream",
     "text": [
      "PERFORMANCE ON GOLD SET\n",
      "Threshold=0.31666666666666665\n",
      "0.0: {'precision': 0.7854166666666667, 'recall': 0.8213507625272332, 'f1-score': 0.8029818956336527, 'support': 459}\n",
      "1.0: {'precision': 0.6796875, 'recall': 0.628158844765343, 'f1-score': 0.6529080675422139, 'support': 277}\n",
      "accuracy: 0.748641304347826\n",
      "\n"
     ]
    }
   ],
   "source": [
    "# Evaluate the best threshold on gold\n",
    "eval_dataset = method_to_split_to_dataset[feature_method][GOLD]\n",
    "eval_dataloader = DataLoader(dataset=eval_dataset, batch_size=batch_size, shuffle=shuffle)\n",
    "metrics_dict = evaluate_model(model=model, dataloader=eval_dataloader, confidence=mean_best_threshold)\n",
    "\n",
    "# Print and save results\n",
    "gold_result_string = f\"PERFORMANCE ON GOLD SET\\n{pretty_print_metrics(metrics_dict, mean_best_threshold)}\"\n",
    "report_string += f\"\\n\\n{gold_result_string}\"\n",
    "write_eval_to_file(file_path=eval_file, report_string=report_string)\n",
    "print(gold_result_string)"
   ]
  }
 ],
 "metadata": {
  "kernelspec": {
   "display_name": "cw1_new_kernel",
   "language": "python",
   "name": "cw1_new_kernel"
  },
  "language_info": {
   "codemirror_mode": {
    "name": "ipython",
    "version": 3
   },
   "file_extension": ".py",
   "mimetype": "text/x-python",
   "name": "python",
   "nbconvert_exporter": "python",
   "pygments_lexer": "ipython3",
   "version": "3.10.11"
  }
 },
 "nbformat": 4,
 "nbformat_minor": 0
}
