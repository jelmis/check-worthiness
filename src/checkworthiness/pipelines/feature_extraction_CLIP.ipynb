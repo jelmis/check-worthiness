{
 "cells": [
  {
   "attachments": {},
   "cell_type": "markdown",
   "metadata": {},
   "source": [
    "# Directory Summary\n",
    "This directory provides notebook and code for several feature extraction methods."
   ]
  },
  {
   "attachments": {},
   "cell_type": "markdown",
   "metadata": {
    "collapsed": false
   },
   "source": [
    "# Feature Extraction\n",
    "Given CLIP-embedded text-image-pairs, there are multiple ways of feeding them to our model. For example, one could naively concatenate the text embedding with the image embedding of every pair and use those concatenations as input. We call the actual inputs \"features\". This notebook showcases different methods of feature extraction, given CLIP-embedded text-image-pairs. The resulting features of each method is stored in a pickle file.\n",
    "\n",
    "Additionally, in Section 1, we save the labels for every split in a separate pickle file."
   ]
  },
  {
   "attachments": {},
   "cell_type": "markdown",
   "metadata": {
    "collapsed": false
   },
   "source": [
    "## 0. Imports and Constants\n",
    "- Change the path to your dataset directory\n",
    "- Specify the dataset versions in the #CONSTANTS# part"
   ]
  },
  {
   "cell_type": "code",
   "execution_count": 2,
   "metadata": {
    "ExecuteTime": {
     "end_time": "2023-06-12T16:10:17.009622554Z",
     "start_time": "2023-06-12T16:10:16.818155660Z"
    },
    "collapsed": false
   },
   "outputs": [
    {
     "name": "stdout",
     "output_type": "stream",
     "text": [
      "The autoreload extension is already loaded. To reload it, use:\n",
      "  %reload_ext autoreload\n"
     ]
    }
   ],
   "source": [
    "############## AUTORELOAD MAGIC ###################\n",
    "%load_ext autoreload\n",
    "%autoreload 2\n",
    "\n",
    "# FUNDAMENTAL MODULES\n",
    "import numpy as np\n",
    "import sys\n",
    "import os\n",
    "\n",
    "############## TASK-SPECIFIC MODULES ##############\n",
    "sys.path.append(os.path.dirname(os.path.dirname(os.path.abspath(\"__file__\"))))\n",
    "from data import feature_extraction as fe\n",
    "from data import label_extraction as le\n",
    "from data import utils\n",
    "###################################################\n",
    "\n",
    "# CONSTANTS\n",
    "version = \"v2\" #\"v1\"\n",
    "users = [\"patriziopalmisano\", \"onurdenizguler\", \"jockl\"]\n",
    "\n",
    "####################### SELECT ###########################\n",
    "user = users[2] # SELECT USER\n",
    "dataset_version = \"v2\" # SELECT DATASET VERSION\n",
    "##########################################################\n",
    "\n",
    "if user in users[:2]:\n",
    "    dataset_dir = f\"/Users/{user}/Library/CloudStorage/GoogleDrive-check.worthiness@gmail.com/My Drive/data/CT23_1A_checkworthy_multimodal_english_{version}\"\n",
    "    gold_dir = f\"/Users/{user}/Library/CloudStorage/GoogleDrive-check.worthiness@gmail.com/My Drive/data/CT23_1A_checkworthy_multimodal_english_test_gold\"\n",
    "else:\n",
    "    dataset_dir = f\"/home/jockl/Insync/check.worthiness@gmail.com/Google Drive/data/CT23_1A_checkworthy_multimodal_english_{dataset_version}\"\n",
    "    gold_dir = f\"/home/jockl/Insync/check.worthiness@gmail.com/Google Drive/data/CT23_1A_checkworthy_multimodal_english_test_gold\"\n",
    "\n",
    "pickled_labels_dir = f\"{dataset_dir}/labels\"\n",
    "pickled_ids_dir = f\"{dataset_dir}/tweet_ids\"\n",
    "train_embeddings_path = dataset_dir + f\"/embeddings_train_{dataset_version}.pickle\"\n",
    "dev_embeddings_path = dataset_dir + f\"/embeddings_dev_{dataset_version}.pickle\"\n",
    "test_embeddings_path = dataset_dir + f\"/embeddings_test_{dataset_version}.pickle\"\n",
    "gold_embeddings_path = dataset_dir + f\"/embeddings_gold.pickle\"\n",
    "\n",
    "# KEYS USED IN ALL DICTS\n",
    "from data.feature_extraction import TRAIN, DEV, TEST, GOLD, TXT, IMG, SPLITS"
   ]
  },
  {
   "attachments": {},
   "cell_type": "markdown",
   "metadata": {
    "collapsed": false
   },
   "source": [
    "## 1. Extract and Pickle the Labels/Tweet IDs"
   ]
  },
  {
   "cell_type": "code",
   "execution_count": 3,
   "metadata": {},
   "outputs": [],
   "source": [
    "# Initial JSON files of every split\n",
    "train_json = f\"{dataset_dir}/CT23_1A_checkworthy_multimodal_english_train.jsonl\"\n",
    "dev_json = f\"{dataset_dir}/CT23_1A_checkworthy_multimodal_english_dev.jsonl\"\n",
    "test_json = f\"{dataset_dir}/CT23_1A_checkworthy_multimodal_english_dev_test.jsonl\"\n",
    "gold_json = f\"{gold_dir}/CT23_1A_checkworthy_multimodal_english_test_gold.jsonl\"\n",
    "all_splits_json = {TRAIN: train_json, DEV: dev_json, TEST: test_json, GOLD: gold_json}"
   ]
  },
  {
   "attachments": {},
   "cell_type": "markdown",
   "metadata": {},
   "source": [
    "### 1.1 Labels"
   ]
  },
  {
   "cell_type": "code",
   "execution_count": 4,
   "metadata": {
    "ExecuteTime": {
     "end_time": "2023-06-12T16:11:12.322737851Z",
     "start_time": "2023-06-12T16:11:12.226322461Z"
    },
    "collapsed": false
   },
   "outputs": [
    {
     "name": "stdout",
     "output_type": "stream",
     "text": [
      "Shape label array: (2356,)\n",
      "Pickled: /home/jockl/Insync/check.worthiness@gmail.com/Google Drive/data/CT23_1A_checkworthy_multimodal_english_v2/labels/train_labels_v2.pickle\n",
      "Shape label array: (271,)\n",
      "Pickled: /home/jockl/Insync/check.worthiness@gmail.com/Google Drive/data/CT23_1A_checkworthy_multimodal_english_v2/labels/dev_labels_v2.pickle\n",
      "Shape label array: (548,)\n",
      "Pickled: /home/jockl/Insync/check.worthiness@gmail.com/Google Drive/data/CT23_1A_checkworthy_multimodal_english_v2/labels/test_labels_v2.pickle\n",
      "Shape label array: (736,)\n",
      "Pickled: /home/jockl/Insync/check.worthiness@gmail.com/Google Drive/data/CT23_1A_checkworthy_multimodal_english_v2/labels/gold_labels.pickle\n"
     ]
    }
   ],
   "source": [
    "# Extract and pickle labels of every split\n",
    "for key, split in all_splits_json.items():\n",
    "      labels_array = le.get_labels_from_dataset(split)\n",
    "      print(f\"Shape label array: {labels_array.shape}\")\n",
    "      if key != GOLD:\n",
    "            utils.pickle_features_or_labels(labels_array, f\"{pickled_labels_dir}/{key}_labels_{dataset_version}.pickle\")\n",
    "      else:\n",
    "            utils.pickle_features_or_labels(labels_array, f\"{pickled_labels_dir}/{key}_labels.pickle\")"
   ]
  },
  {
   "attachments": {},
   "cell_type": "markdown",
   "metadata": {},
   "source": [
    "### 1.2 Tweet IDs"
   ]
  },
  {
   "cell_type": "code",
   "execution_count": 5,
   "metadata": {},
   "outputs": [
    {
     "name": "stdout",
     "output_type": "stream",
     "text": [
      "Shape tweet_id array: (2356,)\n",
      "Pickled: /home/jockl/Insync/check.worthiness@gmail.com/Google Drive/data/CT23_1A_checkworthy_multimodal_english_v2/tweet_ids/train_tweet_ids_v2.pickle\n",
      "Shape tweet_id array: (271,)\n",
      "Pickled: /home/jockl/Insync/check.worthiness@gmail.com/Google Drive/data/CT23_1A_checkworthy_multimodal_english_v2/tweet_ids/dev_tweet_ids_v2.pickle\n",
      "Shape tweet_id array: (548,)\n",
      "Pickled: /home/jockl/Insync/check.worthiness@gmail.com/Google Drive/data/CT23_1A_checkworthy_multimodal_english_v2/tweet_ids/test_tweet_ids_v2.pickle\n",
      "Shape tweet_id array: (736,)\n",
      "Pickled: /home/jockl/Insync/check.worthiness@gmail.com/Google Drive/data/CT23_1A_checkworthy_multimodal_english_v2/tweet_ids/gold_tweet_ids.pickle\n"
     ]
    }
   ],
   "source": [
    "# Extract and pickle tweet_ids of every split\n",
    "for key, split in all_splits_json.items():\n",
    "      tweet_id_array = le.get_tweet_ids_from_dataset(split)\n",
    "      print(f\"Shape tweet_id array: {tweet_id_array.shape}\")\n",
    "      if key != GOLD:\n",
    "            utils.pickle_features_or_labels(tweet_id_array, f\"{pickled_ids_dir}/{key}_tweet_ids_{dataset_version}.pickle\")\n",
    "      else:\n",
    "            utils.pickle_features_or_labels(tweet_id_array, f\"{pickled_ids_dir}/{key}_tweet_ids.pickle\")"
   ]
  },
  {
   "attachments": {},
   "cell_type": "markdown",
   "metadata": {
    "collapsed": false
   },
   "source": [
    "## 2. Load Pickled Embeddings"
   ]
  },
  {
   "attachments": {},
   "cell_type": "markdown",
   "metadata": {
    "collapsed": false
   },
   "source": [
    "For every split of the dataset, two embedding arrays (txt, img) are loaded. We will store those embeddings in a nested dictionary that is intuitive to reference."
   ]
  },
  {
   "cell_type": "code",
   "execution_count": 3,
   "metadata": {
    "ExecuteTime": {
     "end_time": "2023-06-12T16:11:17.436393333Z",
     "start_time": "2023-06-12T16:11:17.351838750Z"
    },
    "collapsed": false
   },
   "outputs": [
    {
     "name": "stdout",
     "output_type": "stream",
     "text": [
      "Split\ttxt\t\timg\n",
      "Tr\t(2356, 768)\t(2356, 768)\n",
      "De\t(271, 768)\t(271, 768)\n",
      "Te\t(548, 768)\t(548, 768)\n",
      "Go\t(736, 768)\t(736, 768)\n"
     ]
    }
   ],
   "source": [
    "# Two  arrays (txt, img) for every split\n",
    "train_txt_embeddings, train_img_embeddings = utils.get_embeddings_from_pickle_file(train_embeddings_path)\n",
    "dev_txt_embeddings, dev_img_embeddings = utils.get_embeddings_from_pickle_file(dev_embeddings_path)\n",
    "test_txt_embeddings, test_img_embeddings = utils.get_embeddings_from_pickle_file(test_embeddings_path)\n",
    "gold_txt_embeddings, gold_img_embeddings = utils.get_embeddings_from_pickle_file(gold_embeddings_path)\n",
    "\n",
    "# Hold embeddings in a nested dictionary for easy referencing\n",
    "embeddings_dict = {\n",
    "      TRAIN: {TXT: train_txt_embeddings, IMG: train_img_embeddings},\n",
    "      DEV: {TXT: dev_txt_embeddings, IMG: dev_img_embeddings},\n",
    "      TEST:  {TXT: test_txt_embeddings, IMG: test_img_embeddings},\n",
    "      GOLD:  {TXT: gold_txt_embeddings, IMG: gold_img_embeddings}\n",
    "}\n",
    "\n",
    "# Dimensions of embedding per split\n",
    "print(utils.table_embeddings_dims_per_split(embeddings_dict))"
   ]
  },
  {
   "attachments": {},
   "cell_type": "markdown",
   "metadata": {
    "collapsed": false
   },
   "source": [
    "## 3. Naive Feature Extraction"
   ]
  },
  {
   "attachments": {},
   "cell_type": "markdown",
   "metadata": {},
   "source": [
    "### 3.0 Pickle Raw Embeddings Seperately (text & img)"
   ]
  },
  {
   "cell_type": "code",
   "execution_count": 4,
   "metadata": {},
   "outputs": [
    {
     "name": "stdout",
     "output_type": "stream",
     "text": [
      "Pickled: /Users/onurdenizguler/Library/CloudStorage/GoogleDrive-check.worthiness@gmail.com/My Drive/data/CT23_1A_checkworthy_multimodal_english_v2/features/txt_embeddings/txt_embeddings_train_v2.pickle\n",
      "Pickled: /Users/onurdenizguler/Library/CloudStorage/GoogleDrive-check.worthiness@gmail.com/My Drive/data/CT23_1A_checkworthy_multimodal_english_v2/features/txt_embeddings/txt_embeddings_dev_v2.pickle\n",
      "Pickled: /Users/onurdenizguler/Library/CloudStorage/GoogleDrive-check.worthiness@gmail.com/My Drive/data/CT23_1A_checkworthy_multimodal_english_v2/features/txt_embeddings/txt_embeddings_test_v2.pickle\n",
      "Pickled: /Users/onurdenizguler/Library/CloudStorage/GoogleDrive-check.worthiness@gmail.com/My Drive/data/CT23_1A_checkworthy_multimodal_english_v2/features/img_embeddings/img_embeddings_train_v2.pickle\n",
      "Pickled: /Users/onurdenizguler/Library/CloudStorage/GoogleDrive-check.worthiness@gmail.com/My Drive/data/CT23_1A_checkworthy_multimodal_english_v2/features/img_embeddings/img_embeddings_dev_v2.pickle\n",
      "Pickled: /Users/onurdenizguler/Library/CloudStorage/GoogleDrive-check.worthiness@gmail.com/My Drive/data/CT23_1A_checkworthy_multimodal_english_v2/features/img_embeddings/img_embeddings_test_v2.pickle\n"
     ]
    }
   ],
   "source": [
    "txt_embeddings = {split: None for split in SPLITS}\n",
    "img_embeddings = {split: None for split in SPLITS}\n",
    "\n",
    "for split, embeddings in embeddings_dict.items():\n",
    "      txt_features, img_features = embeddings[TXT], embeddings[IMG]\n",
    "      txt_embeddings[split] = txt_features\n",
    "      img_embeddings[split] = img_features\n",
    "utils.pickle_all_splits(txt_embeddings, dataset_dir, feature_method=\"txt_embeddings\",dataset_version=dataset_version)\n",
    "utils.pickle_all_splits(img_embeddings, dataset_dir, feature_method=\"img_embeddings\",dataset_version=dataset_version)"
   ]
  },
  {
   "attachments": {},
   "cell_type": "markdown",
   "metadata": {
    "collapsed": false
   },
   "source": [
    "### 3.1 Concatenation"
   ]
  },
  {
   "cell_type": "code",
   "execution_count": 6,
   "metadata": {
    "ExecuteTime": {
     "end_time": "2023-06-12T16:11:18.536830596Z",
     "start_time": "2023-06-12T16:11:18.457711215Z"
    },
    "collapsed": false
   },
   "outputs": [
    {
     "name": "stdout",
     "output_type": "stream",
     "text": [
      "Split\tShape\n",
      "Tr\t(2356, 1536)\n",
      "De\t(271, 1536)\n",
      "Te\t(548, 1536)\n",
      "Go\t(736, 1536)\n"
     ]
    }
   ],
   "source": [
    "# Initialize to-be-pickled feature dictionary\n",
    "concat_features = {split: None for split in SPLITS}\n",
    "\n",
    "# Concatenate txt and img arrays of every split\n",
    "for split, embeddings in embeddings_dict.items():\n",
    "      features = np.concatenate((embeddings[TXT], embeddings[IMG]), axis=1)\n",
    "      concat_features[split] = features\n",
    "\n",
    "# Dimensions of input feature matrix per split\n",
    "print(utils.table_feature_dims_per_split(concat_features))"
   ]
  },
  {
   "cell_type": "code",
   "execution_count": 7,
   "metadata": {
    "ExecuteTime": {
     "end_time": "2023-06-12T16:11:18.709420557Z",
     "start_time": "2023-06-12T16:11:18.689947610Z"
    },
    "collapsed": false
   },
   "outputs": [
    {
     "name": "stdout",
     "output_type": "stream",
     "text": [
      "Txt emb: [ 0.31258187  0.8622302  -0.19572662  0.41690043 -0.8305622 ]\n",
      "Img emb: [ 0.20370999  0.39563796 -0.41939157 -0.35091972  0.02099419]\n",
      "Feature: [ 0.31258187  0.8622302  -0.19572662  0.41690043 -0.8305622 ]\n",
      "\t [ 0.20370999  0.39563796 -0.41939157 -0.35091972  0.02099419]\n"
     ]
    }
   ],
   "source": [
    "# Spot check\n",
    "print(f\"Txt emb: {embeddings_dict[TRAIN][TXT][0][:5]}\")\n",
    "print(f\"Img emb: {embeddings_dict[TRAIN][IMG][0][-5:]}\")\n",
    "print(f\"Feature: {concat_features[TRAIN][0][:5]}\\n\"\n",
    "      f\"\\t {concat_features[TRAIN][0][-5:]}\")"
   ]
  },
  {
   "cell_type": "code",
   "execution_count": 8,
   "metadata": {
    "ExecuteTime": {
     "end_time": "2023-06-12T16:11:18.954206759Z",
     "start_time": "2023-06-12T16:11:18.892253082Z"
    },
    "collapsed": false
   },
   "outputs": [
    {
     "name": "stdout",
     "output_type": "stream",
     "text": [
      "Pickled: /home/jockl/Insync/check.worthiness@gmail.com/Google Drive/data/CT23_1A_checkworthy_multimodal_english_v2/features/concat/concat_train_v2.pickle\n",
      "Pickled: /home/jockl/Insync/check.worthiness@gmail.com/Google Drive/data/CT23_1A_checkworthy_multimodal_english_v2/features/concat/concat_dev_v2.pickle\n",
      "Pickled: /home/jockl/Insync/check.worthiness@gmail.com/Google Drive/data/CT23_1A_checkworthy_multimodal_english_v2/features/concat/concat_test_v2.pickle\n",
      "Pickled: /home/jockl/Insync/check.worthiness@gmail.com/Google Drive/data/CT23_1A_checkworthy_multimodal_english_v2/features/concat/concat_gold.pickle\n"
     ]
    }
   ],
   "source": [
    "# Pickle the feature matrix of every split in its own file\n",
    "utils.pickle_all_splits(concat_features, dataset_dir, feature_method=\"concat\",dataset_version=dataset_version)\n"
   ]
  },
  {
   "attachments": {},
   "cell_type": "markdown",
   "metadata": {
    "collapsed": false
   },
   "source": [
    "### 3.2 Sum"
   ]
  },
  {
   "cell_type": "code",
   "execution_count": 9,
   "metadata": {
    "ExecuteTime": {
     "end_time": "2023-06-12T16:11:19.345735163Z",
     "start_time": "2023-06-12T16:11:19.270129671Z"
    },
    "collapsed": false
   },
   "outputs": [
    {
     "name": "stdout",
     "output_type": "stream",
     "text": [
      "Split\tShape\n",
      "Tr\t(2356, 768)\n",
      "De\t(271, 768)\n",
      "Te\t(548, 768)\n",
      "Go\t(736, 768)\n"
     ]
    }
   ],
   "source": [
    "# Initialize to-be-pickled feature dictionary\n",
    "sum_features = {split: None for split in SPLITS}\n",
    "\n",
    "# Sum txt and img matrices of every split\n",
    "for split, embeddings in embeddings_dict.items():\n",
    "      features = np.sum((embeddings[TXT], embeddings[IMG]), axis=0)\n",
    "      sum_features[split] = features\n",
    "\n",
    "# Shapes of input feature matrix per split\n",
    "print(utils.table_feature_dims_per_split(sum_features))"
   ]
  },
  {
   "cell_type": "code",
   "execution_count": 10,
   "metadata": {
    "ExecuteTime": {
     "end_time": "2023-06-12T16:11:19.678919150Z",
     "start_time": "2023-06-12T16:11:19.662638930Z"
    },
    "collapsed": false
   },
   "outputs": [
    {
     "name": "stdout",
     "output_type": "stream",
     "text": [
      "Txt emb: [ 0.31258187  0.8622302  -0.19572662  0.41690043 -0.8305622 ]\n",
      "Img emb: [-0.24858032  0.6837659   0.81424457  0.59864545  0.49090493]\n",
      "Feature: [ 0.06400155  1.5459961   0.61851794  1.0155458  -0.33965725]\n"
     ]
    }
   ],
   "source": [
    "# Spot check\n",
    "print(f\"Txt emb: {embeddings_dict[TRAIN][TXT][0][:5]}\")\n",
    "print(f\"Img emb: {embeddings_dict[TRAIN][IMG][0][:5]}\")\n",
    "print(f\"Feature: {sum_features[TRAIN][0][:5]}\")"
   ]
  },
  {
   "cell_type": "code",
   "execution_count": 11,
   "metadata": {
    "ExecuteTime": {
     "end_time": "2023-06-12T16:11:19.935960010Z",
     "start_time": "2023-06-12T16:11:19.879436481Z"
    },
    "collapsed": false
   },
   "outputs": [
    {
     "name": "stdout",
     "output_type": "stream",
     "text": [
      "Pickled: /home/jockl/Insync/check.worthiness@gmail.com/Google Drive/data/CT23_1A_checkworthy_multimodal_english_v2/features/sum/sum_train_v2.pickle\n",
      "Pickled: /home/jockl/Insync/check.worthiness@gmail.com/Google Drive/data/CT23_1A_checkworthy_multimodal_english_v2/features/sum/sum_dev_v2.pickle\n",
      "Pickled: /home/jockl/Insync/check.worthiness@gmail.com/Google Drive/data/CT23_1A_checkworthy_multimodal_english_v2/features/sum/sum_test_v2.pickle\n",
      "Pickled: /home/jockl/Insync/check.worthiness@gmail.com/Google Drive/data/CT23_1A_checkworthy_multimodal_english_v2/features/sum/sum_gold.pickle\n"
     ]
    }
   ],
   "source": [
    "# Pickle the feature matrix of every split in its own file\n",
    "utils.pickle_all_splits(sum_features, dataset_dir, feature_method=\"sum\", dataset_version=dataset_version)"
   ]
  },
  {
   "attachments": {},
   "cell_type": "markdown",
   "metadata": {
    "collapsed": false
   },
   "source": [
    "### 3.3 Mean"
   ]
  },
  {
   "cell_type": "code",
   "execution_count": 12,
   "metadata": {
    "ExecuteTime": {
     "end_time": "2023-06-12T16:11:20.757949357Z",
     "start_time": "2023-06-12T16:11:20.663813969Z"
    },
    "collapsed": false
   },
   "outputs": [
    {
     "name": "stdout",
     "output_type": "stream",
     "text": [
      "Split\tShape\n",
      "Tr\t(2356, 768)\n",
      "De\t(271, 768)\n",
      "Te\t(548, 768)\n",
      "Go\t(736, 768)\n"
     ]
    }
   ],
   "source": [
    "# Initialize to-be-pickled feature dictionary\n",
    "mean_features = {split: None for split in SPLITS}\n",
    "\n",
    "# Compute the mean of txt and img matrices of every split\n",
    "for split, embeddings in embeddings_dict.items():\n",
    "      features = np.mean((embeddings[TXT], embeddings[IMG]), axis=0)\n",
    "      mean_features[split] = features\n",
    "\n",
    "# Shapes of input feature matrix per split\n",
    "print(utils.table_feature_dims_per_split(mean_features))"
   ]
  },
  {
   "cell_type": "code",
   "execution_count": 13,
   "metadata": {
    "ExecuteTime": {
     "end_time": "2023-06-12T16:11:21.060514903Z",
     "start_time": "2023-06-12T16:11:21.033081108Z"
    },
    "collapsed": false
   },
   "outputs": [
    {
     "name": "stdout",
     "output_type": "stream",
     "text": [
      "Txt emb: [ 0.31258187  0.8622302  -0.19572662  0.41690043 -0.8305622 ]\n",
      "Img emb: [-0.24858032  0.6837659   0.81424457  0.59864545  0.49090493]\n",
      "Feature: [ 0.03200077  0.77299803  0.30925897  0.5077729  -0.16982862]\n"
     ]
    }
   ],
   "source": [
    "# Spot check\n",
    "print(f\"Txt emb: {embeddings_dict[TRAIN][TXT][0][:5]}\")\n",
    "print(f\"Img emb: {embeddings_dict[TRAIN][IMG][0][:5]}\")\n",
    "print(f\"Feature: {mean_features[TRAIN][0][:5]}\")"
   ]
  },
  {
   "cell_type": "code",
   "execution_count": 14,
   "metadata": {
    "ExecuteTime": {
     "end_time": "2023-06-12T16:11:21.534095926Z",
     "start_time": "2023-06-12T16:11:21.482546997Z"
    },
    "collapsed": false
   },
   "outputs": [
    {
     "name": "stdout",
     "output_type": "stream",
     "text": [
      "Pickled: /home/jockl/Insync/check.worthiness@gmail.com/Google Drive/data/CT23_1A_checkworthy_multimodal_english_v2/features/mean/mean_train_v2.pickle\n",
      "Pickled: /home/jockl/Insync/check.worthiness@gmail.com/Google Drive/data/CT23_1A_checkworthy_multimodal_english_v2/features/mean/mean_dev_v2.pickle\n",
      "Pickled: /home/jockl/Insync/check.worthiness@gmail.com/Google Drive/data/CT23_1A_checkworthy_multimodal_english_v2/features/mean/mean_test_v2.pickle\n",
      "Pickled: /home/jockl/Insync/check.worthiness@gmail.com/Google Drive/data/CT23_1A_checkworthy_multimodal_english_v2/features/mean/mean_gold.pickle\n"
     ]
    }
   ],
   "source": [
    "# Pickle the feature matrix of every split in its own file\n",
    "utils.pickle_all_splits(mean_features, dataset_dir, feature_method=\"mean\", dataset_version=dataset_version)"
   ]
  },
  {
   "attachments": {},
   "cell_type": "markdown",
   "metadata": {
    "collapsed": false
   },
   "source": [
    "### 3.4 Hadamard Product"
   ]
  },
  {
   "cell_type": "code",
   "execution_count": 15,
   "metadata": {
    "ExecuteTime": {
     "end_time": "2023-06-12T16:11:22.484266917Z",
     "start_time": "2023-06-12T16:11:22.442642149Z"
    },
    "collapsed": false
   },
   "outputs": [
    {
     "name": "stdout",
     "output_type": "stream",
     "text": [
      "Split\tShape\n",
      "Tr\t(2356, 768)\n",
      "De\t(271, 768)\n",
      "Te\t(548, 768)\n",
      "Go\t(736, 768)\n"
     ]
    }
   ],
   "source": [
    "# Initialize to-be-pickled feature dictionary\n",
    "hadamard_features = {split: None for split in SPLITS}\n",
    "\n",
    "# Get hadamard multiplication of txt and img matrices of every split\n",
    "for split, embeddings in embeddings_dict.items():\n",
    "      features = np.multiply(embeddings[TXT], embeddings[IMG])\n",
    "      hadamard_features[split] = features\n",
    "\n",
    "# Shapes of input feature matrix per split\n",
    "print(utils.table_feature_dims_per_split(hadamard_features))"
   ]
  },
  {
   "cell_type": "code",
   "execution_count": 16,
   "metadata": {
    "ExecuteTime": {
     "end_time": "2023-06-12T16:11:22.969269055Z",
     "start_time": "2023-06-12T16:11:22.941791017Z"
    },
    "collapsed": false
   },
   "outputs": [
    {
     "name": "stdout",
     "output_type": "stream",
     "text": [
      "Txt emb: [ 0.31258187  0.8622302  -0.19572662  0.41690043 -0.8305622 ]\n",
      "Img emb: [-0.24858032  0.6837659   0.81424457  0.59864545  0.49090493]\n",
      "Feature: [-0.0777017   0.5895636  -0.15936933  0.24957554 -0.40772706]\n"
     ]
    }
   ],
   "source": [
    "# Spot check\n",
    "print(f\"Txt emb: {embeddings_dict[TRAIN][TXT][0][:5]}\")\n",
    "print(f\"Img emb: {embeddings_dict[TRAIN][IMG][0][:5]}\")\n",
    "print(f\"Feature: {hadamard_features[TRAIN][0][:5]}\")"
   ]
  },
  {
   "cell_type": "code",
   "execution_count": 17,
   "metadata": {
    "ExecuteTime": {
     "end_time": "2023-06-12T16:11:25.356495761Z",
     "start_time": "2023-06-12T16:11:25.313701830Z"
    },
    "collapsed": false
   },
   "outputs": [
    {
     "name": "stdout",
     "output_type": "stream",
     "text": [
      "Pickled: /home/jockl/Insync/check.worthiness@gmail.com/Google Drive/data/CT23_1A_checkworthy_multimodal_english_v2/features/hadamard/hadamard_train_v2.pickle\n",
      "Pickled: /home/jockl/Insync/check.worthiness@gmail.com/Google Drive/data/CT23_1A_checkworthy_multimodal_english_v2/features/hadamard/hadamard_dev_v2.pickle\n",
      "Pickled: /home/jockl/Insync/check.worthiness@gmail.com/Google Drive/data/CT23_1A_checkworthy_multimodal_english_v2/features/hadamard/hadamard_test_v2.pickle\n",
      "Pickled: /home/jockl/Insync/check.worthiness@gmail.com/Google Drive/data/CT23_1A_checkworthy_multimodal_english_v2/features/hadamard/hadamard_gold.pickle\n"
     ]
    }
   ],
   "source": [
    "# Pickle the feature matrix of every split in its own file\n",
    "utils.pickle_all_splits(hadamard_features, dataset_dir, feature_method=\"hadamard\", dataset_version=dataset_version)"
   ]
  },
  {
   "attachments": {},
   "cell_type": "markdown",
   "metadata": {
    "collapsed": false
   },
   "source": [
    "## 3.5 Text embeddings only"
   ]
  },
  {
   "cell_type": "code",
   "execution_count": 18,
   "metadata": {
    "ExecuteTime": {
     "end_time": "2023-06-12T16:11:27.724060597Z",
     "start_time": "2023-06-12T16:11:27.705512310Z"
    },
    "collapsed": false
   },
   "outputs": [
    {
     "name": "stdout",
     "output_type": "stream",
     "text": [
      "Split\tShape\n",
      "Tr\t(2356, 768)\n",
      "De\t(271, 768)\n",
      "Te\t(548, 768)\n",
      "Go\t(736, 768)\n"
     ]
    }
   ],
   "source": [
    "# Initialize to-be-pickled feature dictionary\n",
    "text_features = {split: None for split in SPLITS}\n",
    "\n",
    "# Get hadamard multiplication of txt and img matrices of every split\n",
    "for split, embeddings in embeddings_dict.items():\n",
    "      features = embeddings[TXT]\n",
    "      text_features[split] = features\n",
    "\n",
    "# Shapes of input feature matrix per split\n",
    "print(utils.table_feature_dims_per_split(text_features))"
   ]
  },
  {
   "cell_type": "code",
   "execution_count": 19,
   "metadata": {
    "ExecuteTime": {
     "end_time": "2023-06-12T16:11:30.235611998Z",
     "start_time": "2023-06-12T16:11:30.215842662Z"
    },
    "collapsed": false
   },
   "outputs": [
    {
     "name": "stdout",
     "output_type": "stream",
     "text": [
      "Txt emb: [ 0.15794067 -0.3735816  -0.3901655  -0.36886573  0.58402115]\n"
     ]
    }
   ],
   "source": [
    "# Spot check\n",
    "print(f\"Txt emb: {embeddings_dict[GOLD][TXT][0][:5]}\")"
   ]
  },
  {
   "cell_type": "code",
   "execution_count": 20,
   "metadata": {
    "ExecuteTime": {
     "end_time": "2023-06-12T16:11:30.614463071Z",
     "start_time": "2023-06-12T16:11:30.569024990Z"
    },
    "collapsed": false
   },
   "outputs": [
    {
     "name": "stdout",
     "output_type": "stream",
     "text": [
      "Pickled: /home/jockl/Insync/check.worthiness@gmail.com/Google Drive/data/CT23_1A_checkworthy_multimodal_english_v2/features/txt_embeddings/txt_embeddings_train_v2.pickle\n",
      "Pickled: /home/jockl/Insync/check.worthiness@gmail.com/Google Drive/data/CT23_1A_checkworthy_multimodal_english_v2/features/txt_embeddings/txt_embeddings_dev_v2.pickle\n",
      "Pickled: /home/jockl/Insync/check.worthiness@gmail.com/Google Drive/data/CT23_1A_checkworthy_multimodal_english_v2/features/txt_embeddings/txt_embeddings_test_v2.pickle\n",
      "Pickled: /home/jockl/Insync/check.worthiness@gmail.com/Google Drive/data/CT23_1A_checkworthy_multimodal_english_v2/features/txt_embeddings/txt_embeddings_gold.pickle\n"
     ]
    }
   ],
   "source": [
    "utils.pickle_all_splits(text_features, dataset_dir, feature_method=\"txt_embeddings\", dataset_version=dataset_version)"
   ]
  },
  {
   "attachments": {},
   "cell_type": "markdown",
   "metadata": {
    "collapsed": false
   },
   "source": [
    "## 3.6 Image embeddings only"
   ]
  },
  {
   "cell_type": "code",
   "execution_count": 21,
   "metadata": {
    "ExecuteTime": {
     "end_time": "2023-06-12T16:12:23.942132724Z",
     "start_time": "2023-06-12T16:12:23.890750799Z"
    },
    "collapsed": false
   },
   "outputs": [
    {
     "name": "stdout",
     "output_type": "stream",
     "text": [
      "Split\tShape\n",
      "Tr\t(2356, 768)\n",
      "De\t(271, 768)\n",
      "Te\t(548, 768)\n",
      "Go\t(736, 768)\n"
     ]
    }
   ],
   "source": [
    "# Initialize to-be-pickled feature dictionary\n",
    "img_features = {split: None for split in SPLITS}\n",
    "\n",
    "# Get hadamard multiplication of txt and img matrices of every split\n",
    "for split, embeddings in embeddings_dict.items():\n",
    "      features = embeddings[IMG]\n",
    "      img_features[split] = features\n",
    "\n",
    "# Shapes of input feature matrix per split\n",
    "print(utils.table_feature_dims_per_split(img_features))"
   ]
  },
  {
   "cell_type": "code",
   "execution_count": 23,
   "metadata": {
    "ExecuteTime": {
     "end_time": "2023-06-12T16:12:57.668965723Z",
     "start_time": "2023-06-12T16:12:57.652398973Z"
    },
    "collapsed": false
   },
   "outputs": [
    {
     "name": "stdout",
     "output_type": "stream",
     "text": [
      "Img emb: [ 0.31594104 -0.13301875  0.53213775  0.590167   -1.3867524 ]\n"
     ]
    }
   ],
   "source": [
    "# Spot check\n",
    "print(f\"Img emb: {embeddings_dict[GOLD][IMG][0][:5]}\")"
   ]
  },
  {
   "cell_type": "code",
   "execution_count": 24,
   "metadata": {
    "ExecuteTime": {
     "end_time": "2023-06-12T16:13:28.534562617Z",
     "start_time": "2023-06-12T16:13:28.468954718Z"
    },
    "collapsed": false
   },
   "outputs": [
    {
     "name": "stdout",
     "output_type": "stream",
     "text": [
      "Pickled: /home/jockl/Insync/check.worthiness@gmail.com/Google Drive/data/CT23_1A_checkworthy_multimodal_english_v2/features/img_embeddings/img_embeddings_train_v2.pickle\n",
      "Pickled: /home/jockl/Insync/check.worthiness@gmail.com/Google Drive/data/CT23_1A_checkworthy_multimodal_english_v2/features/img_embeddings/img_embeddings_dev_v2.pickle\n",
      "Pickled: /home/jockl/Insync/check.worthiness@gmail.com/Google Drive/data/CT23_1A_checkworthy_multimodal_english_v2/features/img_embeddings/img_embeddings_test_v2.pickle\n",
      "Pickled: /home/jockl/Insync/check.worthiness@gmail.com/Google Drive/data/CT23_1A_checkworthy_multimodal_english_v2/features/img_embeddings/img_embeddings_gold.pickle\n"
     ]
    }
   ],
   "source": [
    "utils.pickle_all_splits(img_features, dataset_dir, feature_method=\"img_embeddings\", dataset_version=dataset_version)"
   ]
  },
  {
   "attachments": {},
   "cell_type": "markdown",
   "metadata": {
    "collapsed": false
   },
   "source": []
  },
  {
   "attachments": {},
   "cell_type": "markdown",
   "metadata": {
    "collapsed": false
   },
   "source": [
    "## 4. Naive Approaches Combined with Text/Image Similarity\n",
    "All the feature matrices from above can be supplemented with an additional feature dimension that captures the cosine similarity of every text-image-embedding-pair. It is the same for every method. Hence, we will compute the cosine similarity dimension once."
   ]
  },
  {
   "cell_type": "code",
   "execution_count": 25,
   "metadata": {
    "ExecuteTime": {
     "end_time": "2023-06-12T16:13:48.168970486Z",
     "start_time": "2023-06-12T16:13:48.118117952Z"
    },
    "collapsed": false
   },
   "outputs": [
    {
     "name": "stdout",
     "output_type": "stream",
     "text": [
      "1.0\n"
     ]
    }
   ],
   "source": [
    "# Sanity check: Cosine sim of a single embedding with itself\n",
    "print(fe.cosine(embeddings_dict[TRAIN][TXT][0], embeddings_dict[TRAIN][TXT][0]))"
   ]
  },
  {
   "cell_type": "code",
   "execution_count": 26,
   "metadata": {
    "ExecuteTime": {
     "end_time": "2023-06-12T16:13:48.348921173Z",
     "start_time": "2023-06-12T16:13:48.305028678Z"
    },
    "collapsed": false
   },
   "outputs": [
    {
     "name": "stdout",
     "output_type": "stream",
     "text": [
      "[1.         0.99999994 1.0000001  ... 1.         1.         0.99999994]\n"
     ]
    }
   ],
   "source": [
    "# Sanity check: Compute cosine array for a split with itself\n",
    "print(fe.compute_cosine_array(embeddings_dict[TRAIN][TXT], embeddings_dict[TRAIN][TXT]))"
   ]
  },
  {
   "cell_type": "code",
   "execution_count": 27,
   "metadata": {
    "ExecuteTime": {
     "end_time": "2023-06-12T16:13:48.526385881Z",
     "start_time": "2023-06-12T16:13:48.465854677Z"
    },
    "collapsed": false
   },
   "outputs": [
    {
     "name": "stdout",
     "output_type": "stream",
     "text": [
      "Split\tShape\n",
      "Tr\t(2356,)\n",
      "De\t(271,)\n",
      "Te\t(548,)\n",
      "Go\t(736,)\n"
     ]
    }
   ],
   "source": [
    "# Compute cosine similarity dimension for every split\n",
    "train_cosine_array = fe.compute_cosine_array(embeddings_dict[TRAIN][TXT], embeddings_dict[TRAIN][IMG])\n",
    "dev_cosine_array = fe.compute_cosine_array(embeddings_dict[DEV][TXT], embeddings_dict[DEV][IMG])\n",
    "test_cosine_array = fe.compute_cosine_array(embeddings_dict[TEST][TXT], embeddings_dict[TEST][IMG])\n",
    "gold_cosine_array = fe.compute_cosine_array(embeddings_dict[GOLD][TXT], embeddings_dict[GOLD][IMG])\n",
    "\n",
    "# Save cosine sim dimension in a dict for easy referencing\n",
    "cosine_dict = {\n",
    "      TRAIN: train_cosine_array,\n",
    "      DEV: dev_cosine_array,\n",
    "      TEST:  test_cosine_array,\n",
    "      GOLD:  gold_cosine_array\n",
    "}\n",
    "\n",
    "# Check cosine sim shapes\n",
    "print(utils.table_feature_dims_per_split(cosine_dict))"
   ]
  },
  {
   "attachments": {},
   "cell_type": "markdown",
   "metadata": {
    "collapsed": false
   },
   "source": [
    "### 4.1 Concatenation + Cosine Similarity"
   ]
  },
  {
   "cell_type": "code",
   "execution_count": 28,
   "metadata": {
    "ExecuteTime": {
     "end_time": "2023-06-12T16:13:48.861571184Z",
     "start_time": "2023-06-12T16:13:48.789526238Z"
    },
    "collapsed": false
   },
   "outputs": [
    {
     "name": "stdout",
     "output_type": "stream",
     "text": [
      "Split\tShape\n",
      "Tr\t(2356, 1537)\n",
      "De\t(271, 1537)\n",
      "Te\t(548, 1537)\n",
      "Go\t(736, 1537)\n"
     ]
    }
   ],
   "source": [
    "# Add cosine dim to every split\n",
    "concat_cos_features = fe.add_feature_dim_to_all_splits(concat_features, cosine_dict)\n",
    "print(utils.table_feature_dims_per_split(concat_cos_features))"
   ]
  },
  {
   "cell_type": "code",
   "execution_count": 29,
   "metadata": {
    "ExecuteTime": {
     "end_time": "2023-06-12T16:13:49.313081625Z",
     "start_time": "2023-06-12T16:13:49.197459752Z"
    },
    "collapsed": false
   },
   "outputs": [
    {
     "name": "stdout",
     "output_type": "stream",
     "text": [
      "Pickled: /home/jockl/Insync/check.worthiness@gmail.com/Google Drive/data/CT23_1A_checkworthy_multimodal_english_v2/features/concat_cos/concat_cos_train_v2.pickle\n",
      "Pickled: /home/jockl/Insync/check.worthiness@gmail.com/Google Drive/data/CT23_1A_checkworthy_multimodal_english_v2/features/concat_cos/concat_cos_dev_v2.pickle\n",
      "Pickled: /home/jockl/Insync/check.worthiness@gmail.com/Google Drive/data/CT23_1A_checkworthy_multimodal_english_v2/features/concat_cos/concat_cos_test_v2.pickle\n",
      "Pickled: /home/jockl/Insync/check.worthiness@gmail.com/Google Drive/data/CT23_1A_checkworthy_multimodal_english_v2/features/concat_cos/concat_cos_gold.pickle\n"
     ]
    }
   ],
   "source": [
    "# Pickle the feature matrix of every split in its own file\n",
    "utils.pickle_all_splits(concat_cos_features, dataset_dir, feature_method=\"concat_cos\", dataset_version=dataset_version)"
   ]
  },
  {
   "attachments": {},
   "cell_type": "markdown",
   "metadata": {
    "collapsed": false
   },
   "source": [
    "### 4.2 Sum + Cosine Similarity"
   ]
  },
  {
   "cell_type": "code",
   "execution_count": 30,
   "metadata": {
    "ExecuteTime": {
     "end_time": "2023-06-12T16:13:49.775826480Z",
     "start_time": "2023-06-12T16:13:49.735838832Z"
    },
    "collapsed": false
   },
   "outputs": [
    {
     "name": "stdout",
     "output_type": "stream",
     "text": [
      "Split\tShape\n",
      "Tr\t(2356, 769)\n",
      "De\t(271, 769)\n",
      "Te\t(548, 769)\n",
      "Go\t(736, 769)\n"
     ]
    }
   ],
   "source": [
    "# Add cosine dim to every split\n",
    "sum_cos_features = fe.add_feature_dim_to_all_splits(sum_features, cosine_dict)\n",
    "print(utils.table_feature_dims_per_split(sum_cos_features))"
   ]
  },
  {
   "cell_type": "code",
   "execution_count": 31,
   "metadata": {
    "ExecuteTime": {
     "end_time": "2023-06-12T16:13:50.182557692Z",
     "start_time": "2023-06-12T16:13:50.114954590Z"
    },
    "collapsed": false
   },
   "outputs": [
    {
     "name": "stdout",
     "output_type": "stream",
     "text": [
      "Pickled: /home/jockl/Insync/check.worthiness@gmail.com/Google Drive/data/CT23_1A_checkworthy_multimodal_english_v2/features/sum_cos/sum_cos_train_v2.pickle\n",
      "Pickled: /home/jockl/Insync/check.worthiness@gmail.com/Google Drive/data/CT23_1A_checkworthy_multimodal_english_v2/features/sum_cos/sum_cos_dev_v2.pickle\n",
      "Pickled: /home/jockl/Insync/check.worthiness@gmail.com/Google Drive/data/CT23_1A_checkworthy_multimodal_english_v2/features/sum_cos/sum_cos_test_v2.pickle\n",
      "Pickled: /home/jockl/Insync/check.worthiness@gmail.com/Google Drive/data/CT23_1A_checkworthy_multimodal_english_v2/features/sum_cos/sum_cos_gold.pickle\n"
     ]
    }
   ],
   "source": [
    "# Pickle the feature matrix of every split in its own file\n",
    "utils.pickle_all_splits(sum_cos_features, dataset_dir, feature_method=\"sum_cos\", dataset_version=dataset_version)"
   ]
  },
  {
   "attachments": {},
   "cell_type": "markdown",
   "metadata": {
    "collapsed": false
   },
   "source": [
    "### 4.3 Mean + Cosine Similarity"
   ]
  },
  {
   "cell_type": "code",
   "execution_count": 32,
   "metadata": {
    "ExecuteTime": {
     "end_time": "2023-06-12T16:13:50.957645794Z",
     "start_time": "2023-06-12T16:13:50.888382546Z"
    },
    "collapsed": false
   },
   "outputs": [
    {
     "name": "stdout",
     "output_type": "stream",
     "text": [
      "Split\tShape\n",
      "Tr\t(2356, 769)\n",
      "De\t(271, 769)\n",
      "Te\t(548, 769)\n",
      "Go\t(736, 769)\n"
     ]
    }
   ],
   "source": [
    "# Add cosine dim to every split\n",
    "mean_cos_features = fe.add_feature_dim_to_all_splits(mean_features, cosine_dict)\n",
    "print(utils.table_feature_dims_per_split(mean_cos_features))"
   ]
  },
  {
   "cell_type": "code",
   "execution_count": 33,
   "metadata": {
    "ExecuteTime": {
     "end_time": "2023-06-12T16:13:51.274672082Z",
     "start_time": "2023-06-12T16:13:51.232143679Z"
    },
    "collapsed": false
   },
   "outputs": [
    {
     "name": "stdout",
     "output_type": "stream",
     "text": [
      "Pickled: /home/jockl/Insync/check.worthiness@gmail.com/Google Drive/data/CT23_1A_checkworthy_multimodal_english_v2/features/mean_cos/mean_cos_train_v2.pickle\n",
      "Pickled: /home/jockl/Insync/check.worthiness@gmail.com/Google Drive/data/CT23_1A_checkworthy_multimodal_english_v2/features/mean_cos/mean_cos_dev_v2.pickle\n",
      "Pickled: /home/jockl/Insync/check.worthiness@gmail.com/Google Drive/data/CT23_1A_checkworthy_multimodal_english_v2/features/mean_cos/mean_cos_test_v2.pickle\n",
      "Pickled: /home/jockl/Insync/check.worthiness@gmail.com/Google Drive/data/CT23_1A_checkworthy_multimodal_english_v2/features/mean_cos/mean_cos_gold.pickle\n"
     ]
    }
   ],
   "source": [
    "# Pickle the feature matrix of every split in its own file\n",
    "utils.pickle_all_splits(mean_cos_features, dataset_dir, feature_method=\"mean_cos\", dataset_version=dataset_version)"
   ]
  },
  {
   "attachments": {},
   "cell_type": "markdown",
   "metadata": {
    "collapsed": false
   },
   "source": [
    "### 4.4 Hadamard Product + Cosine Similarity"
   ]
  },
  {
   "cell_type": "code",
   "execution_count": 34,
   "metadata": {
    "ExecuteTime": {
     "end_time": "2023-06-12T16:13:52.029907004Z",
     "start_time": "2023-06-12T16:13:51.943620252Z"
    },
    "collapsed": false
   },
   "outputs": [
    {
     "name": "stdout",
     "output_type": "stream",
     "text": [
      "Split\tShape\n",
      "Tr\t(2356, 769)\n",
      "De\t(271, 769)\n",
      "Te\t(548, 769)\n",
      "Go\t(736, 769)\n"
     ]
    }
   ],
   "source": [
    "# Add cosine dim to every split\n",
    "hadamard_cos_features = fe.add_feature_dim_to_all_splits(hadamard_features, cosine_dict)\n",
    "print(utils.table_feature_dims_per_split(hadamard_cos_features))"
   ]
  },
  {
   "cell_type": "code",
   "execution_count": 35,
   "metadata": {
    "ExecuteTime": {
     "end_time": "2023-06-12T16:13:52.399004094Z",
     "start_time": "2023-06-12T16:13:52.311184192Z"
    },
    "collapsed": false
   },
   "outputs": [
    {
     "name": "stdout",
     "output_type": "stream",
     "text": [
      "Pickled: /home/jockl/Insync/check.worthiness@gmail.com/Google Drive/data/CT23_1A_checkworthy_multimodal_english_v2/features/hadamard_cos/hadamard_cos_train_v2.pickle\n",
      "Pickled: /home/jockl/Insync/check.worthiness@gmail.com/Google Drive/data/CT23_1A_checkworthy_multimodal_english_v2/features/hadamard_cos/hadamard_cos_dev_v2.pickle\n",
      "Pickled: /home/jockl/Insync/check.worthiness@gmail.com/Google Drive/data/CT23_1A_checkworthy_multimodal_english_v2/features/hadamard_cos/hadamard_cos_test_v2.pickle\n",
      "Pickled: /home/jockl/Insync/check.worthiness@gmail.com/Google Drive/data/CT23_1A_checkworthy_multimodal_english_v2/features/hadamard_cos/hadamard_cos_gold.pickle\n"
     ]
    }
   ],
   "source": [
    "# Pickle the feature matrix of every split in its own file\n",
    "utils.pickle_all_splits(hadamard_cos_features, dataset_dir, feature_method=\"hadamard_cos\", dataset_version=dataset_version)"
   ]
  },
  {
   "attachments": {},
   "cell_type": "markdown",
   "metadata": {
    "collapsed": false
   },
   "source": [
    "## 5. Storage\n",
    "Every presented feature engineering method yields three files, one for every split. For example, the files for the concat_cos are stored in:\n",
    "data/CT23_1A_checkworthy_multimodal_english_v2/features/concat_cos/"
   ]
  },
  {
   "attachments": {},
   "cell_type": "markdown",
   "metadata": {
    "collapsed": false
   },
   "source": [
    "## 6. Load pickled features and labels\n",
    "This section shows how to load a pickled feature matrix."
   ]
  },
  {
   "cell_type": "code",
   "execution_count": 36,
   "metadata": {
    "ExecuteTime": {
     "end_time": "2023-06-12T16:13:53.694042091Z",
     "start_time": "2023-06-12T16:13:53.656156245Z"
    },
    "collapsed": false
   },
   "outputs": [
    {
     "name": "stdout",
     "output_type": "stream",
     "text": [
      "<class 'numpy.ndarray'>\n",
      "(2356, 769)\n"
     ]
    }
   ],
   "source": [
    "# Example: Load the mean_cos feature matrix of the train split\n",
    "file_path = f\"{dataset_dir}/features/mean_cos/mean_cos_train_{dataset_version}.pickle\"\n",
    "train_mean_cos_features = np.load(file_path, allow_pickle=True)\n",
    "print(type(train_mean_cos_features))\n",
    "print(train_mean_cos_features.shape)"
   ]
  },
  {
   "cell_type": "code",
   "execution_count": 37,
   "metadata": {
    "ExecuteTime": {
     "end_time": "2023-06-12T16:13:54.382273485Z",
     "start_time": "2023-06-12T16:13:54.334104488Z"
    },
    "collapsed": false
   },
   "outputs": [
    {
     "name": "stdout",
     "output_type": "stream",
     "text": [
      "<class 'numpy.ndarray'>\n",
      "(2356,)\n"
     ]
    }
   ],
   "source": [
    "# Example: Load the train labels\n",
    "file_path = f\"{dataset_dir}/labels/train_labels_{dataset_version}.pickle\"\n",
    "labels = np.load(file_path, allow_pickle=True)\n",
    "print(type(labels))\n",
    "print(labels.shape)"
   ]
  },
  {
   "attachments": {},
   "cell_type": "markdown",
   "metadata": {
    "collapsed": false
   },
   "source": [
    "## 7. Further Feature Engineering Methods\n",
    "For future approaches beyond the baseline, collect  more subtle feature engineering methods here:\n",
    "- RpBERT: https://ar5iv.labs.arxiv.org/html/2102.02967"
   ]
  }
 ],
 "metadata": {
  "kernelspec": {
   "display_name": "cw1_new_kernel",
   "language": "python",
   "name": "cw1_new_kernel"
  },
  "language_info": {
   "codemirror_mode": {
    "name": "ipython",
    "version": 3
   },
   "file_extension": ".py",
   "mimetype": "text/x-python",
   "name": "python",
   "nbconvert_exporter": "python",
   "pygments_lexer": "ipython3",
   "version": "3.10.11"
  }
 },
 "nbformat": 4,
 "nbformat_minor": 0
}
